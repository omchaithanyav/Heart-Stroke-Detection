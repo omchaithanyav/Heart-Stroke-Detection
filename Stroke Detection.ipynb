{
 "cells": [
  {
   "cell_type": "code",
   "execution_count": 43,
   "id": "5e6032c2",
   "metadata": {},
   "outputs": [],
   "source": [
    "import pandas as pd\n",
    "import numpy as np\n",
    "import os\n",
    "import klib\n",
    "import seaborn as sns\n",
    "import matplotlib.pyplot as plt\n",
    "from sklearn.utils import shuffle"
   ]
  },
  {
   "cell_type": "code",
   "execution_count": 44,
   "id": "d786bf81",
   "metadata": {},
   "outputs": [
    {
     "data": {
      "text/html": [
       "<div>\n",
       "<style scoped>\n",
       "    .dataframe tbody tr th:only-of-type {\n",
       "        vertical-align: middle;\n",
       "    }\n",
       "\n",
       "    .dataframe tbody tr th {\n",
       "        vertical-align: top;\n",
       "    }\n",
       "\n",
       "    .dataframe thead th {\n",
       "        text-align: right;\n",
       "    }\n",
       "</style>\n",
       "<table border=\"1\" class=\"dataframe\">\n",
       "  <thead>\n",
       "    <tr style=\"text-align: right;\">\n",
       "      <th></th>\n",
       "      <th>id</th>\n",
       "      <th>gender</th>\n",
       "      <th>age</th>\n",
       "      <th>hypertension</th>\n",
       "      <th>heart_disease</th>\n",
       "      <th>ever_married</th>\n",
       "      <th>work_type</th>\n",
       "      <th>Residence_type</th>\n",
       "      <th>avg_glucose_level</th>\n",
       "      <th>bmi</th>\n",
       "      <th>smoking_status</th>\n",
       "      <th>stroke</th>\n",
       "    </tr>\n",
       "  </thead>\n",
       "  <tbody>\n",
       "    <tr>\n",
       "      <th>0</th>\n",
       "      <td>9046</td>\n",
       "      <td>Male</td>\n",
       "      <td>67.0</td>\n",
       "      <td>0</td>\n",
       "      <td>1</td>\n",
       "      <td>Yes</td>\n",
       "      <td>Private</td>\n",
       "      <td>Urban</td>\n",
       "      <td>228.69</td>\n",
       "      <td>36.6</td>\n",
       "      <td>formerly smoked</td>\n",
       "      <td>1</td>\n",
       "    </tr>\n",
       "    <tr>\n",
       "      <th>1</th>\n",
       "      <td>51676</td>\n",
       "      <td>Female</td>\n",
       "      <td>61.0</td>\n",
       "      <td>0</td>\n",
       "      <td>0</td>\n",
       "      <td>Yes</td>\n",
       "      <td>Self-employed</td>\n",
       "      <td>Rural</td>\n",
       "      <td>202.21</td>\n",
       "      <td>NaN</td>\n",
       "      <td>never smoked</td>\n",
       "      <td>1</td>\n",
       "    </tr>\n",
       "    <tr>\n",
       "      <th>2</th>\n",
       "      <td>31112</td>\n",
       "      <td>Male</td>\n",
       "      <td>80.0</td>\n",
       "      <td>0</td>\n",
       "      <td>1</td>\n",
       "      <td>Yes</td>\n",
       "      <td>Private</td>\n",
       "      <td>Rural</td>\n",
       "      <td>105.92</td>\n",
       "      <td>32.5</td>\n",
       "      <td>never smoked</td>\n",
       "      <td>1</td>\n",
       "    </tr>\n",
       "    <tr>\n",
       "      <th>3</th>\n",
       "      <td>60182</td>\n",
       "      <td>Female</td>\n",
       "      <td>49.0</td>\n",
       "      <td>0</td>\n",
       "      <td>0</td>\n",
       "      <td>Yes</td>\n",
       "      <td>Private</td>\n",
       "      <td>Urban</td>\n",
       "      <td>171.23</td>\n",
       "      <td>34.4</td>\n",
       "      <td>smokes</td>\n",
       "      <td>1</td>\n",
       "    </tr>\n",
       "    <tr>\n",
       "      <th>4</th>\n",
       "      <td>1665</td>\n",
       "      <td>Female</td>\n",
       "      <td>79.0</td>\n",
       "      <td>1</td>\n",
       "      <td>0</td>\n",
       "      <td>Yes</td>\n",
       "      <td>Self-employed</td>\n",
       "      <td>Rural</td>\n",
       "      <td>174.12</td>\n",
       "      <td>24.0</td>\n",
       "      <td>never smoked</td>\n",
       "      <td>1</td>\n",
       "    </tr>\n",
       "  </tbody>\n",
       "</table>\n",
       "</div>"
      ],
      "text/plain": [
       "      id  gender   age  hypertension  heart_disease ever_married  \\\n",
       "0   9046    Male  67.0             0              1          Yes   \n",
       "1  51676  Female  61.0             0              0          Yes   \n",
       "2  31112    Male  80.0             0              1          Yes   \n",
       "3  60182  Female  49.0             0              0          Yes   \n",
       "4   1665  Female  79.0             1              0          Yes   \n",
       "\n",
       "       work_type Residence_type  avg_glucose_level   bmi   smoking_status  \\\n",
       "0        Private          Urban             228.69  36.6  formerly smoked   \n",
       "1  Self-employed          Rural             202.21   NaN     never smoked   \n",
       "2        Private          Rural             105.92  32.5     never smoked   \n",
       "3        Private          Urban             171.23  34.4           smokes   \n",
       "4  Self-employed          Rural             174.12  24.0     never smoked   \n",
       "\n",
       "   stroke  \n",
       "0       1  \n",
       "1       1  \n",
       "2       1  \n",
       "3       1  \n",
       "4       1  "
      ]
     },
     "execution_count": 44,
     "metadata": {},
     "output_type": "execute_result"
    }
   ],
   "source": [
    "# load the csv file\n",
    "df = pd.read_csv(\"healthcare-dataset-stroke-data.csv\")\n",
    "df.head()"
   ]
  },
  {
   "cell_type": "markdown",
   "id": "eca350a6",
   "metadata": {},
   "source": [
    "## Data Analysis and Preprocessing"
   ]
  },
  {
   "cell_type": "code",
   "execution_count": 45,
   "id": "b931bad5",
   "metadata": {},
   "outputs": [
    {
     "data": {
      "text/plain": [
       "(5110, 12)"
      ]
     },
     "execution_count": 45,
     "metadata": {},
     "output_type": "execute_result"
    }
   ],
   "source": [
    "df.shape"
   ]
  },
  {
   "cell_type": "code",
   "execution_count": 46,
   "id": "3cfa9597",
   "metadata": {},
   "outputs": [
    {
     "name": "stdout",
     "output_type": "stream",
     "text": [
      "<class 'pandas.core.frame.DataFrame'>\n",
      "RangeIndex: 5110 entries, 0 to 5109\n",
      "Data columns (total 12 columns):\n",
      " #   Column             Non-Null Count  Dtype  \n",
      "---  ------             --------------  -----  \n",
      " 0   id                 5110 non-null   int64  \n",
      " 1   gender             5110 non-null   object \n",
      " 2   age                5110 non-null   float64\n",
      " 3   hypertension       5110 non-null   int64  \n",
      " 4   heart_disease      5110 non-null   int64  \n",
      " 5   ever_married       5110 non-null   object \n",
      " 6   work_type          5110 non-null   object \n",
      " 7   Residence_type     5110 non-null   object \n",
      " 8   avg_glucose_level  5110 non-null   float64\n",
      " 9   bmi                4909 non-null   float64\n",
      " 10  smoking_status     5110 non-null   object \n",
      " 11  stroke             5110 non-null   int64  \n",
      "dtypes: float64(3), int64(4), object(5)\n",
      "memory usage: 479.2+ KB\n"
     ]
    }
   ],
   "source": [
    "df.info()"
   ]
  },
  {
   "cell_type": "code",
   "execution_count": 47,
   "id": "711d8b11",
   "metadata": {},
   "outputs": [
    {
     "data": {
      "text/html": [
       "<div>\n",
       "<style scoped>\n",
       "    .dataframe tbody tr th:only-of-type {\n",
       "        vertical-align: middle;\n",
       "    }\n",
       "\n",
       "    .dataframe tbody tr th {\n",
       "        vertical-align: top;\n",
       "    }\n",
       "\n",
       "    .dataframe thead th {\n",
       "        text-align: right;\n",
       "    }\n",
       "</style>\n",
       "<table border=\"1\" class=\"dataframe\">\n",
       "  <thead>\n",
       "    <tr style=\"text-align: right;\">\n",
       "      <th></th>\n",
       "      <th>id</th>\n",
       "      <th>age</th>\n",
       "      <th>hypertension</th>\n",
       "      <th>heart_disease</th>\n",
       "      <th>avg_glucose_level</th>\n",
       "      <th>bmi</th>\n",
       "      <th>stroke</th>\n",
       "    </tr>\n",
       "  </thead>\n",
       "  <tbody>\n",
       "    <tr>\n",
       "      <th>count</th>\n",
       "      <td>5110.000000</td>\n",
       "      <td>5110.000000</td>\n",
       "      <td>5110.000000</td>\n",
       "      <td>5110.000000</td>\n",
       "      <td>5110.000000</td>\n",
       "      <td>4909.000000</td>\n",
       "      <td>5110.000000</td>\n",
       "    </tr>\n",
       "    <tr>\n",
       "      <th>mean</th>\n",
       "      <td>36517.829354</td>\n",
       "      <td>43.226614</td>\n",
       "      <td>0.097456</td>\n",
       "      <td>0.054012</td>\n",
       "      <td>106.147677</td>\n",
       "      <td>28.893237</td>\n",
       "      <td>0.048728</td>\n",
       "    </tr>\n",
       "    <tr>\n",
       "      <th>std</th>\n",
       "      <td>21161.721625</td>\n",
       "      <td>22.612647</td>\n",
       "      <td>0.296607</td>\n",
       "      <td>0.226063</td>\n",
       "      <td>45.283560</td>\n",
       "      <td>7.854067</td>\n",
       "      <td>0.215320</td>\n",
       "    </tr>\n",
       "    <tr>\n",
       "      <th>min</th>\n",
       "      <td>67.000000</td>\n",
       "      <td>0.080000</td>\n",
       "      <td>0.000000</td>\n",
       "      <td>0.000000</td>\n",
       "      <td>55.120000</td>\n",
       "      <td>10.300000</td>\n",
       "      <td>0.000000</td>\n",
       "    </tr>\n",
       "    <tr>\n",
       "      <th>25%</th>\n",
       "      <td>17741.250000</td>\n",
       "      <td>25.000000</td>\n",
       "      <td>0.000000</td>\n",
       "      <td>0.000000</td>\n",
       "      <td>77.245000</td>\n",
       "      <td>23.500000</td>\n",
       "      <td>0.000000</td>\n",
       "    </tr>\n",
       "    <tr>\n",
       "      <th>50%</th>\n",
       "      <td>36932.000000</td>\n",
       "      <td>45.000000</td>\n",
       "      <td>0.000000</td>\n",
       "      <td>0.000000</td>\n",
       "      <td>91.885000</td>\n",
       "      <td>28.100000</td>\n",
       "      <td>0.000000</td>\n",
       "    </tr>\n",
       "    <tr>\n",
       "      <th>75%</th>\n",
       "      <td>54682.000000</td>\n",
       "      <td>61.000000</td>\n",
       "      <td>0.000000</td>\n",
       "      <td>0.000000</td>\n",
       "      <td>114.090000</td>\n",
       "      <td>33.100000</td>\n",
       "      <td>0.000000</td>\n",
       "    </tr>\n",
       "    <tr>\n",
       "      <th>max</th>\n",
       "      <td>72940.000000</td>\n",
       "      <td>82.000000</td>\n",
       "      <td>1.000000</td>\n",
       "      <td>1.000000</td>\n",
       "      <td>271.740000</td>\n",
       "      <td>97.600000</td>\n",
       "      <td>1.000000</td>\n",
       "    </tr>\n",
       "  </tbody>\n",
       "</table>\n",
       "</div>"
      ],
      "text/plain": [
       "                 id          age  hypertension  heart_disease  \\\n",
       "count   5110.000000  5110.000000   5110.000000    5110.000000   \n",
       "mean   36517.829354    43.226614      0.097456       0.054012   \n",
       "std    21161.721625    22.612647      0.296607       0.226063   \n",
       "min       67.000000     0.080000      0.000000       0.000000   \n",
       "25%    17741.250000    25.000000      0.000000       0.000000   \n",
       "50%    36932.000000    45.000000      0.000000       0.000000   \n",
       "75%    54682.000000    61.000000      0.000000       0.000000   \n",
       "max    72940.000000    82.000000      1.000000       1.000000   \n",
       "\n",
       "       avg_glucose_level          bmi       stroke  \n",
       "count        5110.000000  4909.000000  5110.000000  \n",
       "mean          106.147677    28.893237     0.048728  \n",
       "std            45.283560     7.854067     0.215320  \n",
       "min            55.120000    10.300000     0.000000  \n",
       "25%            77.245000    23.500000     0.000000  \n",
       "50%            91.885000    28.100000     0.000000  \n",
       "75%           114.090000    33.100000     0.000000  \n",
       "max           271.740000    97.600000     1.000000  "
      ]
     },
     "execution_count": 47,
     "metadata": {},
     "output_type": "execute_result"
    }
   ],
   "source": [
    "df.describe()"
   ]
  },
  {
   "cell_type": "code",
   "execution_count": 48,
   "id": "a02808bd",
   "metadata": {},
   "outputs": [
    {
     "name": "stdout",
     "output_type": "stream",
     "text": [
      "(5110, 11)\n"
     ]
    },
    {
     "data": {
      "text/plain": [
       "gender                 0\n",
       "age                    0\n",
       "hypertension           0\n",
       "heart_disease          0\n",
       "ever_married           0\n",
       "work_type              0\n",
       "Residence_type         0\n",
       "avg_glucose_level      0\n",
       "bmi                  201\n",
       "smoking_status         0\n",
       "stroke                 0\n",
       "dtype: int64"
      ]
     },
     "execution_count": 48,
     "metadata": {},
     "output_type": "execute_result"
    }
   ],
   "source": [
    "df=df.drop([\"id\"], axis=1)\n",
    "print(df.shape)\n",
    "df.isnull().sum()"
   ]
  },
  {
   "cell_type": "code",
   "execution_count": 49,
   "id": "67f36607",
   "metadata": {},
   "outputs": [
    {
     "data": {
      "text/plain": [
       "0"
      ]
     },
     "execution_count": 49,
     "metadata": {},
     "output_type": "execute_result"
    }
   ],
   "source": [
    "#replace NA in bmi values with mean \n",
    "df['bmi'] = df['bmi'].fillna(np.mean(df['bmi']))\n",
    "df['bmi'].isnull().sum()"
   ]
  },
  {
   "cell_type": "code",
   "execution_count": 50,
   "id": "61f162c5",
   "metadata": {},
   "outputs": [
    {
     "data": {
      "text/plain": [
       "array(['Yes', 'No'], dtype=object)"
      ]
     },
     "execution_count": 50,
     "metadata": {},
     "output_type": "execute_result"
    }
   ],
   "source": [
    "df['ever_married'].unique()"
   ]
  },
  {
   "cell_type": "code",
   "execution_count": 51,
   "id": "1bd55a28",
   "metadata": {},
   "outputs": [
    {
     "data": {
      "text/plain": [
       "array(['formerly smoked', 'never smoked', 'smokes', 'Unknown'],\n",
       "      dtype=object)"
      ]
     },
     "execution_count": 51,
     "metadata": {},
     "output_type": "execute_result"
    }
   ],
   "source": [
    "df['smoking_status'].unique()"
   ]
  },
  {
   "cell_type": "code",
   "execution_count": 52,
   "id": "972c1ac0",
   "metadata": {},
   "outputs": [
    {
     "data": {
      "text/plain": [
       "array(['Male', 'Female', 'Other'], dtype=object)"
      ]
     },
     "execution_count": 52,
     "metadata": {},
     "output_type": "execute_result"
    }
   ],
   "source": [
    "df['gender'].unique()"
   ]
  },
  {
   "cell_type": "code",
   "execution_count": 53,
   "id": "c92e4b5e",
   "metadata": {},
   "outputs": [
    {
     "data": {
      "text/plain": [
       "array(['Urban', 'Rural'], dtype=object)"
      ]
     },
     "execution_count": 53,
     "metadata": {},
     "output_type": "execute_result"
    }
   ],
   "source": [
    "df['Residence_type'].unique()"
   ]
  },
  {
   "cell_type": "code",
   "execution_count": 54,
   "id": "3d6145b3",
   "metadata": {},
   "outputs": [
    {
     "data": {
      "text/plain": [
       "array(['Private', 'Self-employed', 'Govt_job', 'children', 'Never_worked'],\n",
       "      dtype=object)"
      ]
     },
     "execution_count": 54,
     "metadata": {},
     "output_type": "execute_result"
    }
   ],
   "source": [
    "df['work_type'].unique()"
   ]
  },
  {
   "cell_type": "code",
   "execution_count": 55,
   "id": "314ef7ec",
   "metadata": {},
   "outputs": [
    {
     "data": {
      "text/plain": [
       "0    4861\n",
       "1     249\n",
       "Name: stroke, dtype: int64"
      ]
     },
     "execution_count": 55,
     "metadata": {},
     "output_type": "execute_result"
    }
   ],
   "source": [
    "df['stroke'].value_counts()"
   ]
  },
  {
   "cell_type": "code",
   "execution_count": 56,
   "id": "a2db0d6f",
   "metadata": {},
   "outputs": [],
   "source": [
    "#Sampling target feature\n",
    "\n",
    "# Class count\n",
    "count_class_0, count_class_1 = df.stroke.value_counts()\n",
    "\n",
    "# Divide by class\n",
    "df_class_0 = df[df['stroke'] == 0]\n",
    "df_class_1 = df[df['stroke'] == 1]"
   ]
  },
  {
   "cell_type": "code",
   "execution_count": 57,
   "id": "1772d249",
   "metadata": {},
   "outputs": [
    {
     "name": "stdout",
     "output_type": "stream",
     "text": [
      "Random over-sampling:\n",
      "0    4861\n",
      "1    3200\n",
      "Name: stroke, dtype: int64\n"
     ]
    }
   ],
   "source": [
    "# Oversample 1-class and concat the DataFrames of both classes\n",
    "\n",
    "df_class_1_over = df_class_1.sample(3200, replace=True)\n",
    "df = pd.concat([df_class_0, df_class_1_over], axis=0)\n",
    "\n",
    "print('Random over-sampling:')\n",
    "print(df.stroke.value_counts())"
   ]
  },
  {
   "cell_type": "code",
   "execution_count": 58,
   "id": "b280b08d",
   "metadata": {},
   "outputs": [
    {
     "data": {
      "text/html": [
       "<div>\n",
       "<style scoped>\n",
       "    .dataframe tbody tr th:only-of-type {\n",
       "        vertical-align: middle;\n",
       "    }\n",
       "\n",
       "    .dataframe tbody tr th {\n",
       "        vertical-align: top;\n",
       "    }\n",
       "\n",
       "    .dataframe thead th {\n",
       "        text-align: right;\n",
       "    }\n",
       "</style>\n",
       "<table border=\"1\" class=\"dataframe\">\n",
       "  <thead>\n",
       "    <tr style=\"text-align: right;\">\n",
       "      <th></th>\n",
       "      <th>gender</th>\n",
       "      <th>age</th>\n",
       "      <th>hypertension</th>\n",
       "      <th>heart_disease</th>\n",
       "      <th>ever_married</th>\n",
       "      <th>work_type</th>\n",
       "      <th>Residence_type</th>\n",
       "      <th>avg_glucose_level</th>\n",
       "      <th>bmi</th>\n",
       "      <th>smoking_status</th>\n",
       "      <th>stroke</th>\n",
       "    </tr>\n",
       "  </thead>\n",
       "  <tbody>\n",
       "    <tr>\n",
       "      <th>1896</th>\n",
       "      <td>Female</td>\n",
       "      <td>25.0</td>\n",
       "      <td>0</td>\n",
       "      <td>0</td>\n",
       "      <td>No</td>\n",
       "      <td>Govt_job</td>\n",
       "      <td>Rural</td>\n",
       "      <td>74.11</td>\n",
       "      <td>34.100000</td>\n",
       "      <td>smokes</td>\n",
       "      <td>0</td>\n",
       "    </tr>\n",
       "    <tr>\n",
       "      <th>4932</th>\n",
       "      <td>Male</td>\n",
       "      <td>28.0</td>\n",
       "      <td>1</td>\n",
       "      <td>0</td>\n",
       "      <td>No</td>\n",
       "      <td>Private</td>\n",
       "      <td>Urban</td>\n",
       "      <td>86.61</td>\n",
       "      <td>38.600000</td>\n",
       "      <td>smokes</td>\n",
       "      <td>0</td>\n",
       "    </tr>\n",
       "    <tr>\n",
       "      <th>2426</th>\n",
       "      <td>Female</td>\n",
       "      <td>7.0</td>\n",
       "      <td>0</td>\n",
       "      <td>0</td>\n",
       "      <td>No</td>\n",
       "      <td>children</td>\n",
       "      <td>Urban</td>\n",
       "      <td>79.58</td>\n",
       "      <td>15.500000</td>\n",
       "      <td>Unknown</td>\n",
       "      <td>0</td>\n",
       "    </tr>\n",
       "    <tr>\n",
       "      <th>161</th>\n",
       "      <td>Male</td>\n",
       "      <td>71.0</td>\n",
       "      <td>0</td>\n",
       "      <td>1</td>\n",
       "      <td>Yes</td>\n",
       "      <td>Private</td>\n",
       "      <td>Urban</td>\n",
       "      <td>81.76</td>\n",
       "      <td>28.893237</td>\n",
       "      <td>smokes</td>\n",
       "      <td>1</td>\n",
       "    </tr>\n",
       "    <tr>\n",
       "      <th>69</th>\n",
       "      <td>Female</td>\n",
       "      <td>80.0</td>\n",
       "      <td>1</td>\n",
       "      <td>0</td>\n",
       "      <td>Yes</td>\n",
       "      <td>Self-employed</td>\n",
       "      <td>Rural</td>\n",
       "      <td>72.67</td>\n",
       "      <td>28.900000</td>\n",
       "      <td>never smoked</td>\n",
       "      <td>1</td>\n",
       "    </tr>\n",
       "  </tbody>\n",
       "</table>\n",
       "</div>"
      ],
      "text/plain": [
       "      gender   age  hypertension  heart_disease ever_married      work_type  \\\n",
       "1896  Female  25.0             0              0           No       Govt_job   \n",
       "4932    Male  28.0             1              0           No        Private   \n",
       "2426  Female   7.0             0              0           No       children   \n",
       "161     Male  71.0             0              1          Yes        Private   \n",
       "69    Female  80.0             1              0          Yes  Self-employed   \n",
       "\n",
       "     Residence_type  avg_glucose_level        bmi smoking_status  stroke  \n",
       "1896          Rural              74.11  34.100000         smokes       0  \n",
       "4932          Urban              86.61  38.600000         smokes       0  \n",
       "2426          Urban              79.58  15.500000        Unknown       0  \n",
       "161           Urban              81.76  28.893237         smokes       1  \n",
       "69            Rural              72.67  28.900000   never smoked       1  "
      ]
     },
     "execution_count": 58,
     "metadata": {},
     "output_type": "execute_result"
    }
   ],
   "source": [
    "# shuffle data\n",
    "df = shuffle(df)\n",
    "df.head()"
   ]
  },
  {
   "cell_type": "code",
   "execution_count": 59,
   "id": "3543c9db",
   "metadata": {},
   "outputs": [
    {
     "data": {
      "text/plain": [
       "(8061, 11)"
      ]
     },
     "execution_count": 59,
     "metadata": {},
     "output_type": "execute_result"
    }
   ],
   "source": [
    "df.shape"
   ]
  },
  {
   "cell_type": "markdown",
   "id": "b5dc8201",
   "metadata": {},
   "source": [
    "## visualization"
   ]
  },
  {
   "cell_type": "code",
   "execution_count": 60,
   "id": "791f46a1",
   "metadata": {},
   "outputs": [
    {
     "data": {
      "text/plain": [
       "<AxesSubplot:xlabel='bmi', ylabel='Density'>"
      ]
     },
     "execution_count": 60,
     "metadata": {},
     "output_type": "execute_result"
    },
    {
     "data": {
      "image/png": "[encoded data removed]",
      "text/plain": [
       "<Figure size 900x180 with 1 Axes>"
      ]
     },
     "metadata": {
      "needs_background": "light"
     },
     "output_type": "display_data"
    },
    {
     "data": {
      "image/png": "[encoded data removed]",
      "text/plain": [
       "<Figure size 900x180 with 1 Axes>"
      ]
     },
     "metadata": {
      "needs_background": "light"
     },
     "output_type": "display_data"
    },
    {
     "data": {
      "image/png": "[encoded data removed]",
      "text/plain": [
       "<Figure size 900x180 with 1 Axes>"
      ]
     },
     "metadata": {
      "needs_background": "light"
     },
     "output_type": "display_data"
    }
   ],
   "source": [
    "klib.dist_plot(df)"
   ]
  },
  {
   "cell_type": "code",
   "execution_count": 61,
   "id": "0513a3c4",
   "metadata": {},
   "outputs": [
    {
     "data": {
      "image/png": "[encoded data removed]",
      "text/plain": [
       "<Figure size 864x648 with 2 Axes>"
      ]
     },
     "metadata": {
      "needs_background": "light"
     },
     "output_type": "display_data"
    }
   ],
   "source": [
    "plt.figure(figsize=(12,9))\n",
    "sns.heatmap(df.corr(),annot=True,linewidths=2, center = True)\n",
    "plt.show()"
   ]
  },
  {
   "cell_type": "code",
   "execution_count": 62,
   "id": "d8063a98",
   "metadata": {},
   "outputs": [
    {
     "data": {
      "text/plain": [
       "GridSpec(6, 5)"
      ]
     },
     "execution_count": 62,
     "metadata": {},
     "output_type": "execute_result"
    },
    {
     "data": {
      "image/png": "[encoded data removed]",
      "text/plain": [
       "<Figure size 1296x1296 with 11 Axes>"
      ]
     },
     "metadata": {
      "needs_background": "light"
     },
     "output_type": "display_data"
    }
   ],
   "source": [
    "klib.cat_plot(df)"
   ]
  },
  {
   "cell_type": "code",
   "execution_count": 63,
   "id": "d41c9c81",
   "metadata": {
    "scrolled": false
   },
   "outputs": [
    {
     "data": {
      "text/html": [
       "<div>\n",
       "<style scoped>\n",
       "    .dataframe tbody tr th:only-of-type {\n",
       "        vertical-align: middle;\n",
       "    }\n",
       "\n",
       "    .dataframe tbody tr th {\n",
       "        vertical-align: top;\n",
       "    }\n",
       "\n",
       "    .dataframe thead th {\n",
       "        text-align: right;\n",
       "    }\n",
       "</style>\n",
       "<table border=\"1\" class=\"dataframe\">\n",
       "  <thead>\n",
       "    <tr style=\"text-align: right;\">\n",
       "      <th></th>\n",
       "      <th>gender</th>\n",
       "      <th>age</th>\n",
       "      <th>hypertension</th>\n",
       "      <th>heart_disease</th>\n",
       "      <th>ever_married</th>\n",
       "      <th>work_type</th>\n",
       "      <th>Residence_type</th>\n",
       "      <th>avg_glucose_level</th>\n",
       "      <th>bmi</th>\n",
       "      <th>smoking_status</th>\n",
       "      <th>stroke</th>\n",
       "    </tr>\n",
       "  </thead>\n",
       "  <tbody>\n",
       "    <tr>\n",
       "      <th>1896</th>\n",
       "      <td>Female</td>\n",
       "      <td>25.0</td>\n",
       "      <td>0</td>\n",
       "      <td>0</td>\n",
       "      <td>No</td>\n",
       "      <td>Govt_job</td>\n",
       "      <td>Rural</td>\n",
       "      <td>74.11</td>\n",
       "      <td>34.100000</td>\n",
       "      <td>smokes</td>\n",
       "      <td>0</td>\n",
       "    </tr>\n",
       "    <tr>\n",
       "      <th>4932</th>\n",
       "      <td>Male</td>\n",
       "      <td>28.0</td>\n",
       "      <td>1</td>\n",
       "      <td>0</td>\n",
       "      <td>No</td>\n",
       "      <td>Private</td>\n",
       "      <td>Urban</td>\n",
       "      <td>86.61</td>\n",
       "      <td>38.600000</td>\n",
       "      <td>smokes</td>\n",
       "      <td>0</td>\n",
       "    </tr>\n",
       "    <tr>\n",
       "      <th>2426</th>\n",
       "      <td>Female</td>\n",
       "      <td>7.0</td>\n",
       "      <td>0</td>\n",
       "      <td>0</td>\n",
       "      <td>No</td>\n",
       "      <td>children</td>\n",
       "      <td>Urban</td>\n",
       "      <td>79.58</td>\n",
       "      <td>15.500000</td>\n",
       "      <td>Unknown</td>\n",
       "      <td>0</td>\n",
       "    </tr>\n",
       "    <tr>\n",
       "      <th>161</th>\n",
       "      <td>Male</td>\n",
       "      <td>71.0</td>\n",
       "      <td>0</td>\n",
       "      <td>1</td>\n",
       "      <td>Yes</td>\n",
       "      <td>Private</td>\n",
       "      <td>Urban</td>\n",
       "      <td>81.76</td>\n",
       "      <td>28.893237</td>\n",
       "      <td>smokes</td>\n",
       "      <td>1</td>\n",
       "    </tr>\n",
       "    <tr>\n",
       "      <th>69</th>\n",
       "      <td>Female</td>\n",
       "      <td>80.0</td>\n",
       "      <td>1</td>\n",
       "      <td>0</td>\n",
       "      <td>Yes</td>\n",
       "      <td>Self-employed</td>\n",
       "      <td>Rural</td>\n",
       "      <td>72.67</td>\n",
       "      <td>28.900000</td>\n",
       "      <td>never smoked</td>\n",
       "      <td>1</td>\n",
       "    </tr>\n",
       "  </tbody>\n",
       "</table>\n",
       "</div>"
      ],
      "text/plain": [
       "      gender   age  hypertension  heart_disease ever_married      work_type  \\\n",
       "1896  Female  25.0             0              0           No       Govt_job   \n",
       "4932    Male  28.0             1              0           No        Private   \n",
       "2426  Female   7.0             0              0           No       children   \n",
       "161     Male  71.0             0              1          Yes        Private   \n",
       "69    Female  80.0             1              0          Yes  Self-employed   \n",
       "\n",
       "     Residence_type  avg_glucose_level        bmi smoking_status  stroke  \n",
       "1896          Rural              74.11  34.100000         smokes       0  \n",
       "4932          Urban              86.61  38.600000         smokes       0  \n",
       "2426          Urban              79.58  15.500000        Unknown       0  \n",
       "161           Urban              81.76  28.893237         smokes       1  \n",
       "69            Rural              72.67  28.900000   never smoked       1  "
      ]
     },
     "execution_count": 63,
     "metadata": {},
     "output_type": "execute_result"
    }
   ],
   "source": [
    "df.head()"
   ]
  },
  {
   "cell_type": "code",
   "execution_count": 64,
   "id": "18696647",
   "metadata": {},
   "outputs": [
    {
     "data": {
      "text/html": [
       "<div>\n",
       "<style scoped>\n",
       "    .dataframe tbody tr th:only-of-type {\n",
       "        vertical-align: middle;\n",
       "    }\n",
       "\n",
       "    .dataframe tbody tr th {\n",
       "        vertical-align: top;\n",
       "    }\n",
       "\n",
       "    .dataframe thead th {\n",
       "        text-align: right;\n",
       "    }\n",
       "</style>\n",
       "<table border=\"1\" class=\"dataframe\">\n",
       "  <thead>\n",
       "    <tr style=\"text-align: right;\">\n",
       "      <th></th>\n",
       "      <th>gender</th>\n",
       "      <th>age</th>\n",
       "      <th>hypertension</th>\n",
       "      <th>heart_disease</th>\n",
       "      <th>ever_married</th>\n",
       "      <th>work_type</th>\n",
       "      <th>Residence_type</th>\n",
       "      <th>avg_glucose_level</th>\n",
       "      <th>bmi</th>\n",
       "      <th>smoking_status</th>\n",
       "      <th>stroke</th>\n",
       "    </tr>\n",
       "  </thead>\n",
       "  <tbody>\n",
       "    <tr>\n",
       "      <th>1896</th>\n",
       "      <td>0</td>\n",
       "      <td>25.0</td>\n",
       "      <td>0</td>\n",
       "      <td>0</td>\n",
       "      <td>0</td>\n",
       "      <td>0</td>\n",
       "      <td>0</td>\n",
       "      <td>74.11</td>\n",
       "      <td>34.100000</td>\n",
       "      <td>3</td>\n",
       "      <td>0</td>\n",
       "    </tr>\n",
       "    <tr>\n",
       "      <th>4932</th>\n",
       "      <td>1</td>\n",
       "      <td>28.0</td>\n",
       "      <td>1</td>\n",
       "      <td>0</td>\n",
       "      <td>0</td>\n",
       "      <td>2</td>\n",
       "      <td>1</td>\n",
       "      <td>86.61</td>\n",
       "      <td>38.600000</td>\n",
       "      <td>3</td>\n",
       "      <td>0</td>\n",
       "    </tr>\n",
       "    <tr>\n",
       "      <th>2426</th>\n",
       "      <td>0</td>\n",
       "      <td>7.0</td>\n",
       "      <td>0</td>\n",
       "      <td>0</td>\n",
       "      <td>0</td>\n",
       "      <td>4</td>\n",
       "      <td>1</td>\n",
       "      <td>79.58</td>\n",
       "      <td>15.500000</td>\n",
       "      <td>0</td>\n",
       "      <td>0</td>\n",
       "    </tr>\n",
       "    <tr>\n",
       "      <th>161</th>\n",
       "      <td>1</td>\n",
       "      <td>71.0</td>\n",
       "      <td>0</td>\n",
       "      <td>1</td>\n",
       "      <td>1</td>\n",
       "      <td>2</td>\n",
       "      <td>1</td>\n",
       "      <td>81.76</td>\n",
       "      <td>28.893237</td>\n",
       "      <td>3</td>\n",
       "      <td>1</td>\n",
       "    </tr>\n",
       "    <tr>\n",
       "      <th>69</th>\n",
       "      <td>0</td>\n",
       "      <td>80.0</td>\n",
       "      <td>1</td>\n",
       "      <td>0</td>\n",
       "      <td>1</td>\n",
       "      <td>3</td>\n",
       "      <td>0</td>\n",
       "      <td>72.67</td>\n",
       "      <td>28.900000</td>\n",
       "      <td>2</td>\n",
       "      <td>1</td>\n",
       "    </tr>\n",
       "  </tbody>\n",
       "</table>\n",
       "</div>"
      ],
      "text/plain": [
       "      gender   age  hypertension  heart_disease  ever_married  work_type  \\\n",
       "1896       0  25.0             0              0             0          0   \n",
       "4932       1  28.0             1              0             0          2   \n",
       "2426       0   7.0             0              0             0          4   \n",
       "161        1  71.0             0              1             1          2   \n",
       "69         0  80.0             1              0             1          3   \n",
       "\n",
       "      Residence_type  avg_glucose_level        bmi  smoking_status  stroke  \n",
       "1896               0              74.11  34.100000               3       0  \n",
       "4932               1              86.61  38.600000               3       0  \n",
       "2426               1              79.58  15.500000               0       0  \n",
       "161                1              81.76  28.893237               3       1  \n",
       "69                 0              72.67  28.900000               2       1  "
      ]
     },
     "execution_count": 64,
     "metadata": {},
     "output_type": "execute_result"
    }
   ],
   "source": [
    "# Label encoding\n",
    "from sklearn.preprocessing import LabelEncoder\n",
    "\n",
    "le=LabelEncoder()\n",
    "df.gender=le.fit_transform(df.gender)\n",
    "df.ever_married=le.fit_transform(df.ever_married)\n",
    "df.work_type=le.fit_transform(df.work_type)\n",
    "df.Residence_type=le.fit_transform(df.Residence_type)\n",
    "df.smoking_status=le.fit_transform(df.smoking_status)\n",
    "\n",
    "df.head()"
   ]
  },
  {
   "cell_type": "code",
   "execution_count": 65,
   "id": "a81f8a09",
   "metadata": {},
   "outputs": [
    {
     "data": {
      "text/plain": [
       "(array([[  0.        ,  25.        ,   0.        , ...,  74.11      ,\n",
       "          34.1       ,   3.        ],\n",
       "        [  1.        ,  28.        ,   1.        , ...,  86.61      ,\n",
       "          38.6       ,   3.        ],\n",
       "        [  0.        ,   7.        ,   0.        , ...,  79.58      ,\n",
       "          15.5       ,   0.        ],\n",
       "        ...,\n",
       "        [  1.        ,  71.        ,   0.        , ..., 204.98      ,\n",
       "          28.89323691,   1.        ],\n",
       "        [  1.        ,  62.        ,   0.        , ...,  72.5       ,\n",
       "          22.5       ,   1.        ],\n",
       "        [  0.        ,  59.        ,   0.        , ...,  76.15      ,\n",
       "          28.89323691,   0.        ]]),\n",
       " array([0, 0, 0, ..., 0, 0, 1], dtype=int64))"
      ]
     },
     "execution_count": 65,
     "metadata": {},
     "output_type": "execute_result"
    }
   ],
   "source": [
    "X = df.iloc[:,:10].values\n",
    "y = df.iloc[:,-1].values\n",
    "X,y"
   ]
  },
  {
   "cell_type": "raw",
   "id": "52d3588f",
   "metadata": {},
   "source": [
    "# Scaling\n",
    "from sklearn.preprocessing import StandardScaler\n",
    "ss = StandardScaler()\n",
    "X = ss.fit_transform(X)"
   ]
  },
  {
   "cell_type": "code",
   "execution_count": 66,
   "id": "f1a7fefa",
   "metadata": {},
   "outputs": [
    {
     "data": {
      "text/plain": [
       "((4836, 10), (3225, 10), (4836,), (3225,))"
      ]
     },
     "execution_count": 66,
     "metadata": {},
     "output_type": "execute_result"
    }
   ],
   "source": [
    "# Splitting our dataset into train-test split\n",
    "from sklearn.model_selection import train_test_split\n",
    "X_train, X_test, Y_train, Y_test = train_test_split(X, y,test_size = 0.4,random_state = 42)\n",
    "\n",
    "X_train.shape,X_test.shape,Y_train.shape,Y_test.shape"
   ]
  },
  {
   "cell_type": "code",
   "execution_count": 67,
   "id": "4714bef1",
   "metadata": {},
   "outputs": [],
   "source": [
    "import tensorflow as tf\n",
    "from tensorflow import keras\n",
    "from tensorflow.keras import Model\n",
    "from tensorflow.keras.layers import Dense, Dropout, BatchNormalization\n",
    "from tensorflow.keras.optimizers import Adam\n",
    "from tensorflow.keras import Sequential\n",
    "from tensorflow.keras import regularizers\n",
    "from tensorflow.keras.callbacks import EarlyStopping"
   ]
  },
  {
   "cell_type": "markdown",
   "id": "97ac8890",
   "metadata": {},
   "source": [
    "# Model"
   ]
  },
  {
   "cell_type": "code",
   "execution_count": 68,
   "id": "65d3a5ae",
   "metadata": {},
   "outputs": [],
   "source": [
    "es = EarlyStopping(monitor='val_loss', patience=5)"
   ]
  },
  {
   "cell_type": "code",
   "execution_count": 69,
   "id": "25caf61e",
   "metadata": {},
   "outputs": [
    {
     "name": "stdout",
     "output_type": "stream",
     "text": [
      "Model: \"sequential_1\"\n",
      "_________________________________________________________________\n",
      " Layer (type)                Output Shape              Param #   \n",
      "=================================================================\n",
      " dense_2 (Dense)             (None, 60)                660       \n",
      "                                                                 \n",
      " dense_3 (Dense)             (None, 1)                 61        \n",
      "                                                                 \n",
      "=================================================================\n",
      "Total params: 721\n",
      "Trainable params: 721\n",
      "Non-trainable params: 0\n",
      "_________________________________________________________________\n"
     ]
    }
   ],
   "source": [
    "model = tf.keras.models.Sequential([\n",
    "    tf.keras.layers.Dense(60, input_shape=(10,), activation=\"relu\"),  \n",
    "    tf.keras.layers.Dense(1, activation=tf.nn.sigmoid)\n",
    "])\n",
    "\n",
    "\n",
    "model.summary()"
   ]
  },
  {
   "cell_type": "code",
   "execution_count": 70,
   "id": "0da192ea",
   "metadata": {},
   "outputs": [],
   "source": [
    "# compile\n",
    "model.compile(optimizer='adam', loss='binary_crossentropy', metrics=['accuracy'])"
   ]
  },
  {
   "cell_type": "code",
   "execution_count": 71,
   "id": "f7aa214d",
   "metadata": {},
   "outputs": [
    {
     "name": "stdout",
     "output_type": "stream",
     "text": [
      "Epoch 1/250\n",
      "125/139 [=========================>....] - ETA: 0s - loss: 0.7593 - accuracy: 0.6608WARNING:tensorflow:Your input ran out of data; interrupting training. Make sure that your dataset or generator can generate at least `steps_per_epoch * epochs` batches (in this case, 100 batches). You may need to use the repeat() function when building your dataset.\n",
      "139/139 [==============================] - 1s 2ms/step - loss: 0.7415 - accuracy: 0.6671 - val_loss: 0.5450 - val_accuracy: 0.7076\n",
      "Epoch 2/250\n",
      "136/139 [============================>.] - ETA: 0s - loss: 0.5277 - accuracy: 0.7376WARNING:tensorflow:Early stopping conditioned on metric `val_loss` which is not available. Available metrics are: loss,accuracy\n",
      "139/139 [==============================] - 0s 938us/step - loss: 0.5291 - accuracy: 0.7361\n",
      "Epoch 3/250\n",
      "109/139 [======================>.......] - ETA: 0s - loss: 0.5202 - accuracy: 0.7423WARNING:tensorflow:Early stopping conditioned on metric `val_loss` which is not available. Available metrics are: loss,accuracy\n",
      "139/139 [==============================] - 0s 1ms/step - loss: 0.5244 - accuracy: 0.7395\n",
      "Epoch 4/250\n",
      "115/139 [=======================>......] - ETA: 0s - loss: 0.5310 - accuracy: 0.7379WARNING:tensorflow:Early stopping conditioned on metric `val_loss` which is not available. Available metrics are: loss,accuracy\n",
      "139/139 [==============================] - 0s 957us/step - loss: 0.5280 - accuracy: 0.7397\n",
      "Epoch 5/250\n",
      "121/139 [=========================>....] - ETA: 0s - loss: 0.5210 - accuracy: 0.7471WARNING:tensorflow:Early stopping conditioned on metric `val_loss` which is not available. Available metrics are: loss,accuracy\n",
      "139/139 [==============================] - 0s 968us/step - loss: 0.5220 - accuracy: 0.7455\n",
      "Epoch 6/250\n",
      "118/139 [========================>.....] - ETA: 0s - loss: 0.5249 - accuracy: 0.7390WARNING:tensorflow:Early stopping conditioned on metric `val_loss` which is not available. Available metrics are: loss,accuracy\n",
      "139/139 [==============================] - 0s 987us/step - loss: 0.5276 - accuracy: 0.7370\n",
      "Epoch 7/250\n",
      "120/139 [========================>.....] - ETA: 0s - loss: 0.5068 - accuracy: 0.7476WARNING:tensorflow:Early stopping conditioned on metric `val_loss` which is not available. Available metrics are: loss,accuracy\n",
      "139/139 [==============================] - 0s 946us/step - loss: 0.5126 - accuracy: 0.7457\n",
      "Epoch 8/250\n",
      "133/139 [===========================>..] - ETA: 0s - loss: 0.5277 - accuracy: 0.7353WARNING:tensorflow:Early stopping conditioned on metric `val_loss` which is not available. Available metrics are: loss,accuracy\n",
      "139/139 [==============================] - 0s 950us/step - loss: 0.5266 - accuracy: 0.7368\n",
      "Epoch 9/250\n",
      "112/139 [=======================>......] - ETA: 0s - loss: 0.5159 - accuracy: 0.7444WARNING:tensorflow:Early stopping conditioned on metric `val_loss` which is not available. Available metrics are: loss,accuracy\n",
      "139/139 [==============================] - 0s 1ms/step - loss: 0.5144 - accuracy: 0.7450\n",
      "Epoch 10/250\n",
      "125/139 [=========================>....] - ETA: 0s - loss: 0.5266 - accuracy: 0.7413WARNING:tensorflow:Early stopping conditioned on metric `val_loss` which is not available. Available metrics are: loss,accuracy\n",
      "139/139 [==============================] - 0s 943us/step - loss: 0.5264 - accuracy: 0.7428\n",
      "Epoch 11/250\n",
      "124/139 [=========================>....] - ETA: 0s - loss: 0.5015 - accuracy: 0.7521WARNING:tensorflow:Early stopping conditioned on metric `val_loss` which is not available. Available metrics are: loss,accuracy\n",
      "139/139 [==============================] - 0s 1ms/step - loss: 0.4993 - accuracy: 0.7525\n",
      "Epoch 12/250\n",
      "136/139 [============================>.] - ETA: 0s - loss: 0.5043 - accuracy: 0.7592WARNING:tensorflow:Early stopping conditioned on metric `val_loss` which is not available. Available metrics are: loss,accuracy\n",
      "139/139 [==============================] - 0s 944us/step - loss: 0.5026 - accuracy: 0.7614\n",
      "Epoch 13/250\n",
      " 73/139 [==============>...............] - ETA: 0s - loss: 0.4802 - accuracy: 0.7726WARNING:tensorflow:Early stopping conditioned on metric `val_loss` which is not available. Available metrics are: loss,accuracy\n",
      "139/139 [==============================] - 0s 783us/step - loss: 0.4906 - accuracy: 0.7603\n",
      "Epoch 14/250\n",
      " 68/139 [=============>................] - ETA: 0s - loss: 0.4893 - accuracy: 0.7622WARNING:tensorflow:Early stopping conditioned on metric `val_loss` which is not available. Available metrics are: loss,accuracy\n",
      "139/139 [==============================] - 0s 819us/step - loss: 0.5172 - accuracy: 0.7463\n",
      "Epoch 15/250\n",
      " 79/139 [================>.............] - ETA: 0s - loss: 0.5129 - accuracy: 0.7580WARNING:tensorflow:Early stopping conditioned on metric `val_loss` which is not available. Available metrics are: loss,accuracy\n",
      "139/139 [==============================] - 0s 846us/step - loss: 0.5063 - accuracy: 0.7539\n",
      "Epoch 16/250\n",
      "103/139 [=====================>........] - ETA: 0s - loss: 0.4985 - accuracy: 0.7512WARNING:tensorflow:Early stopping conditioned on metric `val_loss` which is not available. Available metrics are: loss,accuracy\n",
      "139/139 [==============================] - 0s 1ms/step - loss: 0.4985 - accuracy: 0.7506\n",
      "Epoch 17/250\n",
      "102/139 [=====================>........] - ETA: 0s - loss: 0.4882 - accuracy: 0.7602WARNING:tensorflow:Early stopping conditioned on metric `val_loss` which is not available. Available metrics are: loss,accuracy\n",
      "139/139 [==============================] - 0s 1ms/step - loss: 0.4898 - accuracy: 0.7593\n",
      "Epoch 18/250\n",
      "105/139 [=====================>........] - ETA: 0s - loss: 0.4876 - accuracy: 0.7548WARNING:tensorflow:Early stopping conditioned on metric `val_loss` which is not available. Available metrics are: loss,accuracy\n",
      "139/139 [==============================] - 0s 1ms/step - loss: 0.4835 - accuracy: 0.7601\n",
      "Epoch 19/250\n",
      " 99/139 [====================>.........] - ETA: 0s - loss: 0.5120 - accuracy: 0.7417WARNING:tensorflow:Early stopping conditioned on metric `val_loss` which is not available. Available metrics are: loss,accuracy\n",
      "139/139 [==============================] - 0s 1ms/step - loss: 0.5096 - accuracy: 0.7469\n",
      "Epoch 20/250\n",
      "129/139 [==========================>...] - ETA: 0s - loss: 0.4863 - accuracy: 0.7657WARNING:tensorflow:Early stopping conditioned on metric `val_loss` which is not available. Available metrics are: loss,accuracy\n",
      "139/139 [==============================] - 0s 1ms/step - loss: 0.4841 - accuracy: 0.7672\n",
      "Epoch 21/250\n",
      "124/139 [=========================>....] - ETA: 0s - loss: 0.5122 - accuracy: 0.7495WARNING:tensorflow:Early stopping conditioned on metric `val_loss` which is not available. Available metrics are: loss,accuracy\n",
      "139/139 [==============================] - 0s 971us/step - loss: 0.5091 - accuracy: 0.7514\n",
      "Epoch 22/250\n",
      "116/139 [========================>.....] - ETA: 0s - loss: 0.4821 - accuracy: 0.7594WARNING:tensorflow:Early stopping conditioned on metric `val_loss` which is not available. Available metrics are: loss,accuracy\n",
      "139/139 [==============================] - 0s 993us/step - loss: 0.4862 - accuracy: 0.7577\n",
      "Epoch 23/250\n",
      "111/139 [======================>.......] - ETA: 0s - loss: 0.4942 - accuracy: 0.7629WARNING:tensorflow:Early stopping conditioned on metric `val_loss` which is not available. Available metrics are: loss,accuracy\n",
      "139/139 [==============================] - 0s 1ms/step - loss: 0.4929 - accuracy: 0.7628\n",
      "Epoch 24/250\n",
      "107/139 [======================>.......] - ETA: 0s - loss: 0.4858 - accuracy: 0.7669WARNING:tensorflow:Early stopping conditioned on metric `val_loss` which is not available. Available metrics are: loss,accuracy\n",
      "139/139 [==============================] - 0s 1ms/step - loss: 0.4857 - accuracy: 0.7657\n",
      "Epoch 25/250\n",
      "122/139 [=========================>....] - ETA: 0s - loss: 0.4715 - accuracy: 0.7780WARNING:tensorflow:Early stopping conditioned on metric `val_loss` which is not available. Available metrics are: loss,accuracy\n",
      "139/139 [==============================] - 0s 917us/step - loss: 0.4780 - accuracy: 0.7725\n",
      "Epoch 26/250\n",
      "129/139 [==========================>...] - ETA: 0s - loss: 0.4935 - accuracy: 0.7542WARNING:tensorflow:Early stopping conditioned on metric `val_loss` which is not available. Available metrics are: loss,accuracy\n"
     ]
    },
    {
     "name": "stdout",
     "output_type": "stream",
     "text": [
      "139/139 [==============================] - 0s 1ms/step - loss: 0.4913 - accuracy: 0.7558\n",
      "Epoch 27/250\n",
      "116/139 [========================>.....] - ETA: 0s - loss: 0.4778 - accuracy: 0.7613WARNING:tensorflow:Early stopping conditioned on metric `val_loss` which is not available. Available metrics are: loss,accuracy\n",
      "139/139 [==============================] - 0s 993us/step - loss: 0.4752 - accuracy: 0.7624\n",
      "Epoch 28/250\n",
      "104/139 [=====================>........] - ETA: 0s - loss: 0.4841 - accuracy: 0.7615WARNING:tensorflow:Early stopping conditioned on metric `val_loss` which is not available. Available metrics are: loss,accuracy\n",
      "139/139 [==============================] - 0s 1ms/step - loss: 0.4862 - accuracy: 0.7605\n",
      "Epoch 29/250\n",
      " 99/139 [====================>.........] - ETA: 0s - loss: 0.4998 - accuracy: 0.7550WARNING:tensorflow:Early stopping conditioned on metric `val_loss` which is not available. Available metrics are: loss,accuracy\n",
      "139/139 [==============================] - 0s 990us/step - loss: 0.4960 - accuracy: 0.7610\n",
      "Epoch 30/250\n",
      " 67/139 [=============>................] - ETA: 0s - loss: 0.4667 - accuracy: 0.7714WARNING:tensorflow:Early stopping conditioned on metric `val_loss` which is not available. Available metrics are: loss,accuracy\n",
      "139/139 [==============================] - 0s 835us/step - loss: 0.4744 - accuracy: 0.7672\n",
      "Epoch 31/250\n",
      " 70/139 [==============>...............] - ETA: 0s - loss: 0.4782 - accuracy: 0.7686WARNING:tensorflow:Early stopping conditioned on metric `val_loss` which is not available. Available metrics are: loss,accuracy\n",
      "139/139 [==============================] - 0s 838us/step - loss: 0.4730 - accuracy: 0.7738\n",
      "Epoch 32/250\n",
      " 70/139 [==============>...............] - ETA: 0s - loss: 0.4930 - accuracy: 0.7641WARNING:tensorflow:Early stopping conditioned on metric `val_loss` which is not available. Available metrics are: loss,accuracy\n",
      "139/139 [==============================] - 0s 842us/step - loss: 0.4808 - accuracy: 0.7645\n",
      "Epoch 33/250\n",
      "135/139 [============================>.] - ETA: 0s - loss: 0.4741 - accuracy: 0.7672WARNING:tensorflow:Early stopping conditioned on metric `val_loss` which is not available. Available metrics are: loss,accuracy\n",
      "139/139 [==============================] - 0s 793us/step - loss: 0.4761 - accuracy: 0.7665\n",
      "Epoch 34/250\n",
      " 67/139 [=============>................] - ETA: 0s - loss: 0.4817 - accuracy: 0.7539WARNING:tensorflow:Early stopping conditioned on metric `val_loss` which is not available. Available metrics are: loss,accuracy\n",
      "139/139 [==============================] - 0s 822us/step - loss: 0.4720 - accuracy: 0.7659\n",
      "Epoch 35/250\n",
      "103/139 [=====================>........] - ETA: 0s - loss: 0.4784 - accuracy: 0.7664WARNING:tensorflow:Early stopping conditioned on metric `val_loss` which is not available. Available metrics are: loss,accuracy\n",
      "139/139 [==============================] - 0s 1ms/step - loss: 0.4852 - accuracy: 0.7577\n",
      "Epoch 36/250\n",
      "107/139 [======================>.......] - ETA: 0s - loss: 0.4729 - accuracy: 0.7664WARNING:tensorflow:Early stopping conditioned on metric `val_loss` which is not available. Available metrics are: loss,accuracy\n",
      "139/139 [==============================] - 0s 1ms/step - loss: 0.4703 - accuracy: 0.7690\n",
      "Epoch 37/250\n",
      "122/139 [=========================>....] - ETA: 0s - loss: 0.4724 - accuracy: 0.7714WARNING:tensorflow:Early stopping conditioned on metric `val_loss` which is not available. Available metrics are: loss,accuracy\n",
      "139/139 [==============================] - 0s 1ms/step - loss: 0.4778 - accuracy: 0.7680\n",
      "Epoch 38/250\n",
      "102/139 [=====================>........] - ETA: 0s - loss: 0.4692 - accuracy: 0.7739WARNING:tensorflow:Early stopping conditioned on metric `val_loss` which is not available. Available metrics are: loss,accuracy\n",
      "139/139 [==============================] - 0s 1ms/step - loss: 0.4777 - accuracy: 0.7686\n",
      "Epoch 39/250\n",
      "107/139 [======================>.......] - ETA: 0s - loss: 0.4734 - accuracy: 0.7738WARNING:tensorflow:Early stopping conditioned on metric `val_loss` which is not available. Available metrics are: loss,accuracy\n",
      "139/139 [==============================] - 0s 1ms/step - loss: 0.4722 - accuracy: 0.7713\n",
      "Epoch 40/250\n",
      "120/139 [========================>.....] - ETA: 0s - loss: 0.4707 - accuracy: 0.7707WARNING:tensorflow:Early stopping conditioned on metric `val_loss` which is not available. Available metrics are: loss,accuracy\n",
      "139/139 [==============================] - 0s 960us/step - loss: 0.4699 - accuracy: 0.7692\n",
      "Epoch 41/250\n",
      "134/139 [===========================>..] - ETA: 0s - loss: 0.4815 - accuracy: 0.7620WARNING:tensorflow:Early stopping conditioned on metric `val_loss` which is not available. Available metrics are: loss,accuracy\n",
      "139/139 [==============================] - 0s 963us/step - loss: 0.4847 - accuracy: 0.7597\n",
      "Epoch 42/250\n",
      "124/139 [=========================>....] - ETA: 0s - loss: 0.4626 - accuracy: 0.7673WARNING:tensorflow:Early stopping conditioned on metric `val_loss` which is not available. Available metrics are: loss,accuracy\n",
      "139/139 [==============================] - 0s 937us/step - loss: 0.4644 - accuracy: 0.7672\n",
      "Epoch 43/250\n",
      "137/139 [============================>.] - ETA: 0s - loss: 0.4734 - accuracy: 0.7652WARNING:tensorflow:Early stopping conditioned on metric `val_loss` which is not available. Available metrics are: loss,accuracy\n",
      "139/139 [==============================] - 0s 967us/step - loss: 0.4735 - accuracy: 0.7649\n",
      "Epoch 44/250\n",
      "102/139 [=====================>........] - ETA: 0s - loss: 0.4778 - accuracy: 0.7633WARNING:tensorflow:Early stopping conditioned on metric `val_loss` which is not available. Available metrics are: loss,accuracy\n",
      "139/139 [==============================] - 0s 1ms/step - loss: 0.4730 - accuracy: 0.7651\n",
      "Epoch 45/250\n",
      "110/139 [======================>.......] - ETA: 0s - loss: 0.4631 - accuracy: 0.7704WARNING:tensorflow:Early stopping conditioned on metric `val_loss` which is not available. Available metrics are: loss,accuracy\n",
      "139/139 [==============================] - 0s 1ms/step - loss: 0.4668 - accuracy: 0.7696\n",
      "Epoch 46/250\n",
      "138/139 [============================>.] - ETA: 0s - loss: 0.4600 - accuracy: 0.7764WARNING:tensorflow:Early stopping conditioned on metric `val_loss` which is not available. Available metrics are: loss,accuracy\n",
      "139/139 [==============================] - 0s 1ms/step - loss: 0.4600 - accuracy: 0.7763\n",
      "Epoch 47/250\n",
      "135/139 [============================>.] - ETA: 0s - loss: 0.4760 - accuracy: 0.7655WARNING:tensorflow:Early stopping conditioned on metric `val_loss` which is not available. Available metrics are: loss,accuracy\n",
      "139/139 [==============================] - 0s 1ms/step - loss: 0.4765 - accuracy: 0.7655\n",
      "Epoch 48/250\n",
      " 95/139 [===================>..........] - ETA: 0s - loss: 0.4594 - accuracy: 0.7732WARNING:tensorflow:Early stopping conditioned on metric `val_loss` which is not available. Available metrics are: loss,accuracy\n",
      "139/139 [==============================] - 0s 1ms/step - loss: 0.4625 - accuracy: 0.7699\n",
      "Epoch 49/250\n",
      "131/139 [===========================>..] - ETA: 0s - loss: 0.4592 - accuracy: 0.7721WARNING:tensorflow:Early stopping conditioned on metric `val_loss` which is not available. Available metrics are: loss,accuracy\n",
      "139/139 [==============================] - 0s 965us/step - loss: 0.4626 - accuracy: 0.7696\n",
      "Epoch 50/250\n",
      "139/139 [==============================] - ETA: 0s - loss: 0.4844 - accuracy: 0.7647WARNING:tensorflow:Early stopping conditioned on metric `val_loss` which is not available. Available metrics are: loss,accuracy\n",
      "139/139 [==============================] - 0s 843us/step - loss: 0.4844 - accuracy: 0.7647\n",
      "Epoch 51/250\n",
      "130/139 [===========================>..] - ETA: 0s - loss: 0.4618 - accuracy: 0.7690WARNING:tensorflow:Early stopping conditioned on metric `val_loss` which is not available. Available metrics are: loss,accuracy\n",
      "139/139 [==============================] - 0s 982us/step - loss: 0.4626 - accuracy: 0.7686\n",
      "Epoch 52/250\n",
      "130/139 [===========================>..] - ETA: 0s - loss: 0.4756 - accuracy: 0.7633WARNING:tensorflow:Early stopping conditioned on metric `val_loss` which is not available. Available metrics are: loss,accuracy\n",
      "139/139 [==============================] - 0s 926us/step - loss: 0.4714 - accuracy: 0.7663\n"
     ]
    },
    {
     "name": "stdout",
     "output_type": "stream",
     "text": [
      "Epoch 53/250\n",
      "137/139 [============================>.] - ETA: 0s - loss: 0.4655 - accuracy: 0.7760WARNING:tensorflow:Early stopping conditioned on metric `val_loss` which is not available. Available metrics are: loss,accuracy\n",
      "139/139 [==============================] - 0s 813us/step - loss: 0.4653 - accuracy: 0.7763\n",
      "Epoch 54/250\n",
      "126/139 [==========================>...] - ETA: 0s - loss: 0.4689 - accuracy: 0.7714WARNING:tensorflow:Early stopping conditioned on metric `val_loss` which is not available. Available metrics are: loss,accuracy\n",
      "139/139 [==============================] - 0s 1ms/step - loss: 0.4752 - accuracy: 0.7686\n",
      "Epoch 55/250\n",
      "119/139 [========================>.....] - ETA: 0s - loss: 0.4568 - accuracy: 0.7782WARNING:tensorflow:Early stopping conditioned on metric `val_loss` which is not available. Available metrics are: loss,accuracy\n",
      "139/139 [==============================] - 0s 937us/step - loss: 0.4589 - accuracy: 0.7765\n",
      "Epoch 56/250\n",
      "116/139 [========================>.....] - ETA: 0s - loss: 0.4933 - accuracy: 0.7544WARNING:tensorflow:Early stopping conditioned on metric `val_loss` which is not available. Available metrics are: loss,accuracy\n",
      "139/139 [==============================] - 0s 1ms/step - loss: 0.4862 - accuracy: 0.7579\n",
      "Epoch 57/250\n",
      "137/139 [============================>.] - ETA: 0s - loss: 0.4626 - accuracy: 0.7746WARNING:tensorflow:Early stopping conditioned on metric `val_loss` which is not available. Available metrics are: loss,accuracy\n",
      "139/139 [==============================] - 0s 1ms/step - loss: 0.4617 - accuracy: 0.7750\n",
      "Epoch 58/250\n",
      "102/139 [=====================>........] - ETA: 0s - loss: 0.4692 - accuracy: 0.7689WARNING:tensorflow:Early stopping conditioned on metric `val_loss` which is not available. Available metrics are: loss,accuracy\n",
      "139/139 [==============================] - 0s 1ms/step - loss: 0.4752 - accuracy: 0.7653\n",
      "Epoch 59/250\n",
      "120/139 [========================>.....] - ETA: 0s - loss: 0.4613 - accuracy: 0.7740WARNING:tensorflow:Early stopping conditioned on metric `val_loss` which is not available. Available metrics are: loss,accuracy\n",
      "139/139 [==============================] - 0s 910us/step - loss: 0.4593 - accuracy: 0.7758\n",
      "Epoch 60/250\n",
      "124/139 [=========================>....] - ETA: 0s - loss: 0.4651 - accuracy: 0.7721WARNING:tensorflow:Early stopping conditioned on metric `val_loss` which is not available. Available metrics are: loss,accuracy\n",
      "139/139 [==============================] - 0s 943us/step - loss: 0.4663 - accuracy: 0.7711\n",
      "Epoch 61/250\n",
      "100/139 [====================>.........] - ETA: 0s - loss: 0.4441 - accuracy: 0.7829WARNING:tensorflow:Early stopping conditioned on metric `val_loss` which is not available. Available metrics are: loss,accuracy\n",
      "139/139 [==============================] - 0s 1ms/step - loss: 0.4508 - accuracy: 0.7777\n",
      "Epoch 62/250\n",
      "117/139 [========================>.....] - ETA: 0s - loss: 0.4647 - accuracy: 0.7656WARNING:tensorflow:Early stopping conditioned on metric `val_loss` which is not available. Available metrics are: loss,accuracy\n",
      "139/139 [==============================] - 0s 2ms/step - loss: 0.4596 - accuracy: 0.7707\n",
      "Epoch 63/250\n",
      "130/139 [===========================>..] - ETA: 0s - loss: 0.4509 - accuracy: 0.7778WARNING:tensorflow:Early stopping conditioned on metric `val_loss` which is not available. Available metrics are: loss,accuracy\n",
      "139/139 [==============================] - 0s 1ms/step - loss: 0.4518 - accuracy: 0.7771\n",
      "Epoch 64/250\n",
      " 96/139 [===================>..........] - ETA: 0s - loss: 0.4638 - accuracy: 0.7720WARNING:tensorflow:Early stopping conditioned on metric `val_loss` which is not available. Available metrics are: loss,accuracy\n",
      "139/139 [==============================] - 0s 1ms/step - loss: 0.4646 - accuracy: 0.7703\n",
      "Epoch 65/250\n",
      " 93/139 [===================>..........] - ETA: 0s - loss: 0.4650 - accuracy: 0.7699WARNING:tensorflow:Early stopping conditioned on metric `val_loss` which is not available. Available metrics are: loss,accuracy\n",
      "139/139 [==============================] - 0s 1ms/step - loss: 0.4690 - accuracy: 0.7690\n",
      "Epoch 66/250\n",
      "119/139 [========================>.....] - ETA: 0s - loss: 0.4581 - accuracy: 0.7729WARNING:tensorflow:Early stopping conditioned on metric `val_loss` which is not available. Available metrics are: loss,accuracy\n",
      "139/139 [==============================] - 0s 2ms/step - loss: 0.4570 - accuracy: 0.7734\n",
      "Epoch 67/250\n",
      "130/139 [===========================>..] - ETA: 0s - loss: 0.4541 - accuracy: 0.7734WARNING:tensorflow:Early stopping conditioned on metric `val_loss` which is not available. Available metrics are: loss,accuracy\n",
      "139/139 [==============================] - 0s 981us/step - loss: 0.4556 - accuracy: 0.7740\n",
      "Epoch 68/250\n",
      "116/139 [========================>.....] - ETA: 0s - loss: 0.4564 - accuracy: 0.7751WARNING:tensorflow:Early stopping conditioned on metric `val_loss` which is not available. Available metrics are: loss,accuracy\n",
      "139/139 [==============================] - 0s 1ms/step - loss: 0.4552 - accuracy: 0.7769\n",
      "Epoch 69/250\n",
      "128/139 [==========================>...] - ETA: 0s - loss: 0.4470 - accuracy: 0.7801WARNING:tensorflow:Early stopping conditioned on metric `val_loss` which is not available. Available metrics are: loss,accuracy\n",
      "139/139 [==============================] - 0s 951us/step - loss: 0.4492 - accuracy: 0.7789\n",
      "Epoch 70/250\n",
      " 67/139 [=============>................] - ETA: 0s - loss: 0.4475 - accuracy: 0.7821WARNING:tensorflow:Early stopping conditioned on metric `val_loss` which is not available. Available metrics are: loss,accuracy\n",
      "139/139 [==============================] - 0s 749us/step - loss: 0.4525 - accuracy: 0.7796\n",
      "Epoch 71/250\n",
      "111/139 [======================>.......] - ETA: 0s - loss: 0.4725 - accuracy: 0.7722WARNING:tensorflow:Early stopping conditioned on metric `val_loss` which is not available. Available metrics are: loss,accuracy\n",
      "139/139 [==============================] - 0s 1ms/step - loss: 0.4632 - accuracy: 0.7752\n",
      "Epoch 72/250\n",
      " 99/139 [====================>.........] - ETA: 0s - loss: 0.4628 - accuracy: 0.7691WARNING:tensorflow:Early stopping conditioned on metric `val_loss` which is not available. Available metrics are: loss,accuracy\n",
      "139/139 [==============================] - 0s 1ms/step - loss: 0.4631 - accuracy: 0.7701\n",
      "Epoch 73/250\n",
      " 71/139 [==============>...............] - ETA: 0s - loss: 0.4432 - accuracy: 0.7843WARNING:tensorflow:Early stopping conditioned on metric `val_loss` which is not available. Available metrics are: loss,accuracy\n",
      "139/139 [==============================] - 0s 868us/step - loss: 0.4523 - accuracy: 0.7781\n",
      "Epoch 74/250\n",
      " 66/139 [=============>................] - ETA: 0s - loss: 0.4535 - accuracy: 0.7771WARNING:tensorflow:Early stopping conditioned on metric `val_loss` which is not available. Available metrics are: loss,accuracy\n",
      "139/139 [==============================] - 0s 829us/step - loss: 0.4567 - accuracy: 0.7750\n",
      "Epoch 75/250\n",
      "128/139 [==========================>...] - ETA: 0s - loss: 0.4481 - accuracy: 0.7786WARNING:tensorflow:Early stopping conditioned on metric `val_loss` which is not available. Available metrics are: loss,accuracy\n",
      "139/139 [==============================] - 0s 921us/step - loss: 0.4452 - accuracy: 0.7808\n",
      "Epoch 76/250\n",
      "130/139 [===========================>..] - ETA: 0s - loss: 0.4482 - accuracy: 0.7802WARNING:tensorflow:Early stopping conditioned on metric `val_loss` which is not available. Available metrics are: loss,accuracy\n",
      "139/139 [==============================] - 0s 987us/step - loss: 0.4472 - accuracy: 0.7800\n",
      "Epoch 77/250\n",
      "130/139 [===========================>..] - ETA: 0s - loss: 0.4471 - accuracy: 0.7840WARNING:tensorflow:Early stopping conditioned on metric `val_loss` which is not available. Available metrics are: loss,accuracy\n",
      "139/139 [==============================] - 0s 937us/step - loss: 0.4497 - accuracy: 0.7814\n",
      "Epoch 78/250\n",
      "138/139 [============================>.] - ETA: 0s - loss: 0.4594 - accuracy: 0.7694WARNING:tensorflow:Early stopping conditioned on metric `val_loss` which is not available. Available metrics are: loss,accuracy\n",
      "139/139 [==============================] - 0s 807us/step - loss: 0.4593 - accuracy: 0.7694\n",
      "Epoch 79/250\n"
     ]
    },
    {
     "name": "stdout",
     "output_type": "stream",
     "text": [
      "135/139 [============================>.] - ETA: 0s - loss: 0.4536 - accuracy: 0.7793WARNING:tensorflow:Early stopping conditioned on metric `val_loss` which is not available. Available metrics are: loss,accuracy\n",
      "139/139 [==============================] - 0s 949us/step - loss: 0.4562 - accuracy: 0.7777\n",
      "Epoch 80/250\n",
      "139/139 [==============================] - ETA: 0s - loss: 0.4495 - accuracy: 0.7808WARNING:tensorflow:Early stopping conditioned on metric `val_loss` which is not available. Available metrics are: loss,accuracy\n",
      "139/139 [==============================] - 0s 790us/step - loss: 0.4495 - accuracy: 0.7808\n",
      "Epoch 81/250\n",
      " 68/139 [=============>................] - ETA: 0s - loss: 0.4596 - accuracy: 0.7777WARNING:tensorflow:Early stopping conditioned on metric `val_loss` which is not available. Available metrics are: loss,accuracy\n",
      "139/139 [==============================] - 0s 832us/step - loss: 0.4591 - accuracy: 0.7711\n",
      "Epoch 82/250\n",
      "133/139 [===========================>..] - ETA: 0s - loss: 0.4574 - accuracy: 0.7734WARNING:tensorflow:Early stopping conditioned on metric `val_loss` which is not available. Available metrics are: loss,accuracy\n",
      "139/139 [==============================] - 0s 784us/step - loss: 0.4560 - accuracy: 0.7752\n",
      "Epoch 83/250\n",
      " 77/139 [===============>..............] - ETA: 0s - loss: 0.4507 - accuracy: 0.7718WARNING:tensorflow:Early stopping conditioned on metric `val_loss` which is not available. Available metrics are: loss,accuracy\n",
      "139/139 [==============================] - 0s 831us/step - loss: 0.4502 - accuracy: 0.7758\n",
      "Epoch 84/250\n",
      "136/139 [============================>.] - ETA: 0s - loss: 0.4745 - accuracy: 0.7605WARNING:tensorflow:Early stopping conditioned on metric `val_loss` which is not available. Available metrics are: loss,accuracy\n",
      "139/139 [==============================] - 0s 788us/step - loss: 0.4715 - accuracy: 0.7624\n",
      "Epoch 85/250\n",
      "115/139 [=======================>......] - ETA: 0s - loss: 0.4485 - accuracy: 0.7871WARNING:tensorflow:Early stopping conditioned on metric `val_loss` which is not available. Available metrics are: loss,accuracy\n",
      "139/139 [==============================] - 0s 1ms/step - loss: 0.4494 - accuracy: 0.7839\n",
      "Epoch 86/250\n",
      "134/139 [===========================>..] - ETA: 0s - loss: 0.4415 - accuracy: 0.7802WARNING:tensorflow:Early stopping conditioned on metric `val_loss` which is not available. Available metrics are: loss,accuracy\n",
      "139/139 [==============================] - 0s 1ms/step - loss: 0.4426 - accuracy: 0.7794\n",
      "Epoch 87/250\n",
      " 69/139 [=============>................] - ETA: 0s - loss: 0.4413 - accuracy: 0.7876WARNING:tensorflow:Early stopping conditioned on metric `val_loss` which is not available. Available metrics are: loss,accuracy\n",
      "139/139 [==============================] - 0s 779us/step - loss: 0.4421 - accuracy: 0.7878\n",
      "Epoch 88/250\n",
      "138/139 [============================>.] - ETA: 0s - loss: 0.4515 - accuracy: 0.7768WARNING:tensorflow:Early stopping conditioned on metric `val_loss` which is not available. Available metrics are: loss,accuracy\n",
      "139/139 [==============================] - 0s 788us/step - loss: 0.4524 - accuracy: 0.7763\n",
      "Epoch 89/250\n",
      "127/139 [==========================>...] - ETA: 0s - loss: 0.4590 - accuracy: 0.7746WARNING:tensorflow:Early stopping conditioned on metric `val_loss` which is not available. Available metrics are: loss,accuracy\n",
      "139/139 [==============================] - 0s 923us/step - loss: 0.4543 - accuracy: 0.7792\n",
      "Epoch 90/250\n",
      " 71/139 [==============>...............] - ETA: 0s - loss: 0.4417 - accuracy: 0.7807WARNING:tensorflow:Early stopping conditioned on metric `val_loss` which is not available. Available metrics are: loss,accuracy\n",
      "139/139 [==============================] - 0s 840us/step - loss: 0.4410 - accuracy: 0.7852\n",
      "Epoch 91/250\n",
      " 68/139 [=============>................] - ETA: 0s - loss: 0.4492 - accuracy: 0.7836WARNING:tensorflow:Early stopping conditioned on metric `val_loss` which is not available. Available metrics are: loss,accuracy\n",
      "139/139 [==============================] - 0s 821us/step - loss: 0.4471 - accuracy: 0.7829\n",
      "Epoch 92/250\n",
      "136/139 [============================>.] - ETA: 0s - loss: 0.4504 - accuracy: 0.7838WARNING:tensorflow:Early stopping conditioned on metric `val_loss` which is not available. Available metrics are: loss,accuracy\n",
      "139/139 [==============================] - 0s 839us/step - loss: 0.4495 - accuracy: 0.7841\n",
      "Epoch 93/250\n",
      " 68/139 [=============>................] - ETA: 0s - loss: 0.4574 - accuracy: 0.7857WARNING:tensorflow:Early stopping conditioned on metric `val_loss` which is not available. Available metrics are: loss,accuracy\n",
      "139/139 [==============================] - 0s 848us/step - loss: 0.4473 - accuracy: 0.7837\n",
      "Epoch 94/250\n",
      " 83/139 [================>.............] - ETA: 0s - loss: 0.4463 - accuracy: 0.7814WARNING:tensorflow:Early stopping conditioned on metric `val_loss` which is not available. Available metrics are: loss,accuracy\n",
      "139/139 [==============================] - 0s 839us/step - loss: 0.4558 - accuracy: 0.7814\n",
      "Epoch 95/250\n",
      "139/139 [==============================] - ETA: 0s - loss: 0.4686 - accuracy: 0.7651WARNING:tensorflow:Early stopping conditioned on metric `val_loss` which is not available. Available metrics are: loss,accuracy\n",
      "139/139 [==============================] - 0s 863us/step - loss: 0.4686 - accuracy: 0.7651\n",
      "Epoch 96/250\n",
      "131/139 [===========================>..] - ETA: 0s - loss: 0.4436 - accuracy: 0.7863WARNING:tensorflow:Early stopping conditioned on metric `val_loss` which is not available. Available metrics are: loss,accuracy\n",
      "139/139 [==============================] - 0s 898us/step - loss: 0.4442 - accuracy: 0.7866\n",
      "Epoch 97/250\n",
      " 69/139 [=============>................] - ETA: 0s - loss: 0.4533 - accuracy: 0.7785WARNING:tensorflow:Early stopping conditioned on metric `val_loss` which is not available. Available metrics are: loss,accuracy\n",
      "139/139 [==============================] - 0s 765us/step - loss: 0.4436 - accuracy: 0.7821\n",
      "Epoch 98/250\n",
      " 75/139 [===============>..............] - ETA: 0s - loss: 0.4371 - accuracy: 0.7890WARNING:tensorflow:Early stopping conditioned on metric `val_loss` which is not available. Available metrics are: loss,accuracy\n",
      "139/139 [==============================] - 0s 912us/step - loss: 0.4437 - accuracy: 0.7835\n",
      "Epoch 99/250\n",
      " 55/139 [==========>...................] - ETA: 0s - loss: 0.4345 - accuracy: 0.7912WARNING:tensorflow:Early stopping conditioned on metric `val_loss` which is not available. Available metrics are: loss,accuracy\n",
      "139/139 [==============================] - 0s 823us/step - loss: 0.4357 - accuracy: 0.7909\n",
      "Epoch 100/250\n",
      " 67/139 [=============>................] - ETA: 0s - loss: 0.4279 - accuracy: 0.7974WARNING:tensorflow:Early stopping conditioned on metric `val_loss` which is not available. Available metrics are: loss,accuracy\n",
      "139/139 [==============================] - 0s 795us/step - loss: 0.4360 - accuracy: 0.7897\n",
      "Epoch 101/250\n",
      " 68/139 [=============>................] - ETA: 0s - loss: 0.4513 - accuracy: 0.7748WARNING:tensorflow:Early stopping conditioned on metric `val_loss` which is not available. Available metrics are: loss,accuracy\n",
      "139/139 [==============================] - 0s 909us/step - loss: 0.4477 - accuracy: 0.7767\n",
      "Epoch 102/250\n",
      " 78/139 [===============>..............] - ETA: 0s - loss: 0.4566 - accuracy: 0.7729WARNING:tensorflow:Early stopping conditioned on metric `val_loss` which is not available. Available metrics are: loss,accuracy\n",
      "139/139 [==============================] - 0s 854us/step - loss: 0.4505 - accuracy: 0.7773\n",
      "Epoch 103/250\n",
      " 64/139 [============>.................] - ETA: 0s - loss: 0.4226 - accuracy: 0.7991WARNING:tensorflow:Early stopping conditioned on metric `val_loss` which is not available. Available metrics are: loss,accuracy\n",
      "139/139 [==============================] - 0s 857us/step - loss: 0.4405 - accuracy: 0.7885\n",
      "Epoch 104/250\n",
      " 70/139 [==============>...............] - ETA: 0s - loss: 0.4914 - accuracy: 0.7596WARNING:tensorflow:Early stopping conditioned on metric `val_loss` which is not available. Available metrics are: loss,accuracy\n",
      "139/139 [==============================] - 0s 909us/step - loss: 0.4623 - accuracy: 0.7727\n"
     ]
    },
    {
     "name": "stdout",
     "output_type": "stream",
     "text": [
      "Epoch 105/250\n",
      "137/139 [============================>.] - ETA: 0s - loss: 0.4354 - accuracy: 0.7906WARNING:tensorflow:Early stopping conditioned on metric `val_loss` which is not available. Available metrics are: loss,accuracy\n",
      "139/139 [==============================] - 0s 909us/step - loss: 0.4366 - accuracy: 0.7899\n",
      "Epoch 106/250\n",
      " 74/139 [==============>...............] - ETA: 0s - loss: 0.4608 - accuracy: 0.7799WARNING:tensorflow:Early stopping conditioned on metric `val_loss` which is not available. Available metrics are: loss,accuracy\n",
      "139/139 [==============================] - 0s 909us/step - loss: 0.4529 - accuracy: 0.7821\n",
      "Epoch 107/250\n",
      " 81/139 [================>.............] - ETA: 0s - loss: 0.4546 - accuracy: 0.7760WARNING:tensorflow:Early stopping conditioned on metric `val_loss` which is not available. Available metrics are: loss,accuracy\n",
      "139/139 [==============================] - 0s 874us/step - loss: 0.4544 - accuracy: 0.7789\n",
      "Epoch 108/250\n",
      " 75/139 [===============>..............] - ETA: 0s - loss: 0.4413 - accuracy: 0.7771WARNING:tensorflow:Early stopping conditioned on metric `val_loss` which is not available. Available metrics are: loss,accuracy\n",
      "139/139 [==============================] - 0s 733us/step - loss: 0.4418 - accuracy: 0.7839\n",
      "Epoch 109/250\n",
      " 84/139 [=================>............] - ETA: 0s - loss: 0.4251 - accuracy: 0.7963WARNING:tensorflow:Early stopping conditioned on metric `val_loss` which is not available. Available metrics are: loss,accuracy\n",
      "139/139 [==============================] - 0s 795us/step - loss: 0.4303 - accuracy: 0.7922\n",
      "Epoch 110/250\n",
      "135/139 [============================>.] - ETA: 0s - loss: 0.4361 - accuracy: 0.7930WARNING:tensorflow:Early stopping conditioned on metric `val_loss` which is not available. Available metrics are: loss,accuracy\n",
      "139/139 [==============================] - 0s 909us/step - loss: 0.4349 - accuracy: 0.7940\n",
      "Epoch 111/250\n",
      " 81/139 [================>.............] - ETA: 0s - loss: 0.4628 - accuracy: 0.7771WARNING:tensorflow:Early stopping conditioned on metric `val_loss` which is not available. Available metrics are: loss,accuracy\n",
      "139/139 [==============================] - 0s 795us/step - loss: 0.4516 - accuracy: 0.7829\n",
      "Epoch 112/250\n",
      " 68/139 [=============>................] - ETA: 0s - loss: 0.4682 - accuracy: 0.7702WARNING:tensorflow:Early stopping conditioned on metric `val_loss` which is not available. Available metrics are: loss,accuracy\n",
      "139/139 [==============================] - 0s 912us/step - loss: 0.4510 - accuracy: 0.7792\n",
      "Epoch 113/250\n",
      " 69/139 [=============>................] - ETA: 0s - loss: 0.4322 - accuracy: 0.7859WARNING:tensorflow:Early stopping conditioned on metric `val_loss` which is not available. Available metrics are: loss,accuracy\n",
      "139/139 [==============================] - 0s 909us/step - loss: 0.4372 - accuracy: 0.7889\n",
      "Epoch 114/250\n",
      " 78/139 [===============>..............] - ETA: 0s - loss: 0.4328 - accuracy: 0.7872WARNING:tensorflow:Early stopping conditioned on metric `val_loss` which is not available. Available metrics are: loss,accuracy\n",
      "139/139 [==============================] - 0s 795us/step - loss: 0.4351 - accuracy: 0.7876\n",
      "Epoch 115/250\n",
      " 75/139 [===============>..............] - ETA: 0s - loss: 0.4544 - accuracy: 0.7745WARNING:tensorflow:Early stopping conditioned on metric `val_loss` which is not available. Available metrics are: loss,accuracy\n",
      "139/139 [==============================] - 0s 1ms/step - loss: 0.4497 - accuracy: 0.7756\n",
      "Epoch 116/250\n",
      "124/139 [=========================>....] - ETA: 0s - loss: 0.4378 - accuracy: 0.7926WARNING:tensorflow:Early stopping conditioned on metric `val_loss` which is not available. Available metrics are: loss,accuracy\n",
      "139/139 [==============================] - 0s 1ms/step - loss: 0.4408 - accuracy: 0.7905\n",
      "Epoch 117/250\n",
      " 67/139 [=============>................] - ETA: 0s - loss: 0.4315 - accuracy: 0.8017WARNING:tensorflow:Early stopping conditioned on metric `val_loss` which is not available. Available metrics are: loss,accuracy\n",
      "139/139 [==============================] - 0s 909us/step - loss: 0.4385 - accuracy: 0.7922\n",
      "Epoch 118/250\n",
      " 75/139 [===============>..............] - ETA: 0s - loss: 0.4458 - accuracy: 0.7935WARNING:tensorflow:Early stopping conditioned on metric `val_loss` which is not available. Available metrics are: loss,accuracy\n",
      "139/139 [==============================] - 0s 795us/step - loss: 0.4358 - accuracy: 0.7984\n",
      "Epoch 119/250\n",
      " 83/139 [================>.............] - ETA: 0s - loss: 0.4454 - accuracy: 0.7831WARNING:tensorflow:Early stopping conditioned on metric `val_loss` which is not available. Available metrics are: loss,accuracy\n",
      "139/139 [==============================] - 0s 821us/step - loss: 0.4443 - accuracy: 0.7810\n",
      "Epoch 120/250\n",
      "134/139 [===========================>..] - ETA: 0s - loss: 0.4423 - accuracy: 0.7883WARNING:tensorflow:Early stopping conditioned on metric `val_loss` which is not available. Available metrics are: loss,accuracy\n",
      "139/139 [==============================] - 0s 911us/step - loss: 0.4455 - accuracy: 0.7870\n",
      "Epoch 121/250\n",
      " 77/139 [===============>..............] - ETA: 0s - loss: 0.4350 - accuracy: 0.7937WARNING:tensorflow:Early stopping conditioned on metric `val_loss` which is not available. Available metrics are: loss,accuracy\n",
      "139/139 [==============================] - 0s 795us/step - loss: 0.4383 - accuracy: 0.7932\n",
      "Epoch 122/250\n",
      " 86/139 [=================>............] - ETA: 0s - loss: 0.4346 - accuracy: 0.7910WARNING:tensorflow:Early stopping conditioned on metric `val_loss` which is not available. Available metrics are: loss,accuracy\n",
      "139/139 [==============================] - 0s 796us/step - loss: 0.4489 - accuracy: 0.7833\n",
      "Epoch 123/250\n",
      " 71/139 [==============>...............] - ETA: 0s - loss: 0.4358 - accuracy: 0.7936WARNING:tensorflow:Early stopping conditioned on metric `val_loss` which is not available. Available metrics are: loss,accuracy\n",
      "139/139 [==============================] - 0s 909us/step - loss: 0.4519 - accuracy: 0.7831\n",
      "Epoch 124/250\n",
      " 80/139 [================>.............] - ETA: 0s - loss: 0.4731 - accuracy: 0.7704WARNING:tensorflow:Early stopping conditioned on metric `val_loss` which is not available. Available metrics are: loss,accuracy\n",
      "139/139 [==============================] - 0s 832us/step - loss: 0.4570 - accuracy: 0.7806\n",
      "Epoch 125/250\n",
      " 81/139 [================>.............] - ETA: 0s - loss: 0.4250 - accuracy: 0.7986WARNING:tensorflow:Early stopping conditioned on metric `val_loss` which is not available. Available metrics are: loss,accuracy\n",
      "139/139 [==============================] - 0s 912us/step - loss: 0.4263 - accuracy: 0.7965\n",
      "Epoch 126/250\n",
      " 69/139 [=============>................] - ETA: 0s - loss: 0.4298 - accuracy: 0.7930WARNING:tensorflow:Early stopping conditioned on metric `val_loss` which is not available. Available metrics are: loss,accuracy\n",
      "139/139 [==============================] - 0s 853us/step - loss: 0.4366 - accuracy: 0.7897\n",
      "Epoch 127/250\n",
      "132/139 [===========================>..] - ETA: 0s - loss: 0.4365 - accuracy: 0.7898WARNING:tensorflow:Early stopping conditioned on metric `val_loss` which is not available. Available metrics are: loss,accuracy\n",
      "139/139 [==============================] - 0s 982us/step - loss: 0.4388 - accuracy: 0.7876\n",
      "Epoch 128/250\n",
      "138/139 [============================>.] - ETA: 0s - loss: 0.4283 - accuracy: 0.8014WARNING:tensorflow:Early stopping conditioned on metric `val_loss` which is not available. Available metrics are: loss,accuracy\n",
      "139/139 [==============================] - 0s 840us/step - loss: 0.4288 - accuracy: 0.8009\n",
      "Epoch 129/250\n",
      " 54/139 [==========>...................] - ETA: 0s - loss: 0.4282 - accuracy: 0.7915WARNING:tensorflow:Early stopping conditioned on metric `val_loss` which is not available. Available metrics are: loss,accuracy\n",
      "139/139 [==============================] - 0s 830us/step - loss: 0.4423 - accuracy: 0.7852\n",
      "Epoch 130/250\n",
      " 82/139 [================>.............] - ETA: 0s - loss: 0.4332 - accuracy: 0.7892WARNING:tensorflow:Early stopping conditioned on metric `val_loss` which is not available. Available metrics are: loss,accuracy\n",
      "139/139 [==============================] - 0s 796us/step - loss: 0.4336 - accuracy: 0.7907\n"
     ]
    },
    {
     "name": "stdout",
     "output_type": "stream",
     "text": [
      "Epoch 131/250\n",
      "137/139 [============================>.] - ETA: 0s - loss: 0.4414 - accuracy: 0.7848WARNING:tensorflow:Early stopping conditioned on metric `val_loss` which is not available. Available metrics are: loss,accuracy\n",
      "139/139 [==============================] - 0s 909us/step - loss: 0.4410 - accuracy: 0.7852\n",
      "Epoch 132/250\n",
      " 80/139 [================>.............] - ETA: 0s - loss: 0.4419 - accuracy: 0.7821WARNING:tensorflow:Early stopping conditioned on metric `val_loss` which is not available. Available metrics are: loss,accuracy\n",
      "139/139 [==============================] - 0s 795us/step - loss: 0.4393 - accuracy: 0.7812\n",
      "Epoch 133/250\n",
      "130/139 [===========================>..] - ETA: 0s - loss: 0.4271 - accuracy: 0.7965WARNING:tensorflow:Early stopping conditioned on metric `val_loss` which is not available. Available metrics are: loss,accuracy\n",
      "139/139 [==============================] - 0s 906us/step - loss: 0.4286 - accuracy: 0.7945\n",
      "Epoch 134/250\n",
      "135/139 [============================>.] - ETA: 0s - loss: 0.4369 - accuracy: 0.7896WARNING:tensorflow:Early stopping conditioned on metric `val_loss` which is not available. Available metrics are: loss,accuracy\n",
      "139/139 [==============================] - 0s 1ms/step - loss: 0.4349 - accuracy: 0.7907\n",
      "Epoch 135/250\n",
      " 72/139 [==============>...............] - ETA: 0s - loss: 0.4450 - accuracy: 0.7861WARNING:tensorflow:Early stopping conditioned on metric `val_loss` which is not available. Available metrics are: loss,accuracy\n",
      "139/139 [==============================] - 0s 909us/step - loss: 0.4362 - accuracy: 0.7905\n",
      "Epoch 136/250\n",
      " 76/139 [===============>..............] - ETA: 0s - loss: 0.4419 - accuracy: 0.7872WARNING:tensorflow:Early stopping conditioned on metric `val_loss` which is not available. Available metrics are: loss,accuracy\n",
      "139/139 [==============================] - 0s 795us/step - loss: 0.4442 - accuracy: 0.7825\n",
      "Epoch 137/250\n",
      " 85/139 [=================>............] - ETA: 0s - loss: 0.4433 - accuracy: 0.7852WARNING:tensorflow:Early stopping conditioned on metric `val_loss` which is not available. Available metrics are: loss,accuracy\n",
      "139/139 [==============================] - 0s 858us/step - loss: 0.4416 - accuracy: 0.7841\n",
      "Epoch 138/250\n",
      " 75/139 [===============>..............] - ETA: 0s - loss: 0.4329 - accuracy: 0.7947WARNING:tensorflow:Early stopping conditioned on metric `val_loss` which is not available. Available metrics are: loss,accuracy\n",
      "139/139 [==============================] - 0s 762us/step - loss: 0.4347 - accuracy: 0.7885\n",
      "Epoch 139/250\n",
      " 78/139 [===============>..............] - ETA: 0s - loss: 0.4424 - accuracy: 0.7788WARNING:tensorflow:Early stopping conditioned on metric `val_loss` which is not available. Available metrics are: loss,accuracy\n",
      "139/139 [==============================] - 0s 795us/step - loss: 0.4294 - accuracy: 0.7899\n",
      "Epoch 140/250\n",
      " 66/139 [=============>................] - ETA: 0s - loss: 0.4298 - accuracy: 0.7866WARNING:tensorflow:Early stopping conditioned on metric `val_loss` which is not available. Available metrics are: loss,accuracy\n",
      "139/139 [==============================] - 0s 909us/step - loss: 0.4386 - accuracy: 0.7858\n",
      "Epoch 141/250\n",
      " 73/139 [==============>...............] - ETA: 0s - loss: 0.4330 - accuracy: 0.7949WARNING:tensorflow:Early stopping conditioned on metric `val_loss` which is not available. Available metrics are: loss,accuracy\n",
      "139/139 [==============================] - 0s 912us/step - loss: 0.4409 - accuracy: 0.7930\n",
      "Epoch 142/250\n",
      " 60/139 [===========>..................] - ETA: 0s - loss: 0.4324 - accuracy: 0.7957WARNING:tensorflow:Early stopping conditioned on metric `val_loss` which is not available. Available metrics are: loss,accuracy\n",
      "139/139 [==============================] - 0s 806us/step - loss: 0.4345 - accuracy: 0.7922\n",
      "Epoch 143/250\n",
      " 84/139 [=================>............] - ETA: 0s - loss: 0.4180 - accuracy: 0.8088WARNING:tensorflow:Early stopping conditioned on metric `val_loss` which is not available. Available metrics are: loss,accuracy\n",
      "139/139 [==============================] - 0s 796us/step - loss: 0.4268 - accuracy: 0.7974\n",
      "Epoch 144/250\n",
      "136/139 [============================>.] - ETA: 0s - loss: 0.4435 - accuracy: 0.7845WARNING:tensorflow:Early stopping conditioned on metric `val_loss` which is not available. Available metrics are: loss,accuracy\n",
      "139/139 [==============================] - 0s 1ms/step - loss: 0.4431 - accuracy: 0.7849\n",
      "Epoch 145/250\n",
      " 73/139 [==============>...............] - ETA: 0s - loss: 0.4218 - accuracy: 0.7941WARNING:tensorflow:Early stopping conditioned on metric `val_loss` which is not available. Available metrics are: loss,accuracy\n",
      "139/139 [==============================] - 0s 912us/step - loss: 0.4348 - accuracy: 0.7891\n",
      "Epoch 146/250\n",
      " 77/139 [===============>..............] - ETA: 0s - loss: 0.4298 - accuracy: 0.7933WARNING:tensorflow:Early stopping conditioned on metric `val_loss` which is not available. Available metrics are: loss,accuracy\n",
      "139/139 [==============================] - 0s 904us/step - loss: 0.4351 - accuracy: 0.7897\n",
      "Epoch 147/250\n",
      " 82/139 [================>.............] - ETA: 0s - loss: 0.4510 - accuracy: 0.7833WARNING:tensorflow:Early stopping conditioned on metric `val_loss` which is not available. Available metrics are: loss,accuracy\n",
      "139/139 [==============================] - 0s 795us/step - loss: 0.4439 - accuracy: 0.7862\n",
      "Epoch 148/250\n",
      " 62/139 [============>.................] - ETA: 0s - loss: 0.4248 - accuracy: 0.8000WARNING:tensorflow:Early stopping conditioned on metric `val_loss` which is not available. Available metrics are: loss,accuracy\n",
      "139/139 [==============================] - 0s 909us/step - loss: 0.4333 - accuracy: 0.7914\n",
      "Epoch 149/250\n",
      " 70/139 [==============>...............] - ETA: 0s - loss: 0.4335 - accuracy: 0.7971WARNING:tensorflow:Early stopping conditioned on metric `val_loss` which is not available. Available metrics are: loss,accuracy\n",
      "139/139 [==============================] - 0s 909us/step - loss: 0.4373 - accuracy: 0.7916\n",
      "Epoch 150/250\n",
      " 78/139 [===============>..............] - ETA: 0s - loss: 0.4224 - accuracy: 0.8011WARNING:tensorflow:Early stopping conditioned on metric `val_loss` which is not available. Available metrics are: loss,accuracy\n",
      "139/139 [==============================] - 0s 893us/step - loss: 0.4289 - accuracy: 0.7978\n",
      "Epoch 151/250\n",
      " 71/139 [==============>...............] - ETA: 0s - loss: 0.4487 - accuracy: 0.7883WARNING:tensorflow:Early stopping conditioned on metric `val_loss` which is not available. Available metrics are: loss,accuracy\n",
      "139/139 [==============================] - 0s 839us/step - loss: 0.4363 - accuracy: 0.7938\n",
      "Epoch 152/250\n",
      " 79/139 [================>.............] - ETA: 0s - loss: 0.4304 - accuracy: 0.7913WARNING:tensorflow:Early stopping conditioned on metric `val_loss` which is not available. Available metrics are: loss,accuracy\n",
      "139/139 [==============================] - 0s 795us/step - loss: 0.4311 - accuracy: 0.7911\n",
      "Epoch 153/250\n",
      "107/139 [======================>.......] - ETA: 0s - loss: 0.4392 - accuracy: 0.7915WARNING:tensorflow:Early stopping conditioned on metric `val_loss` which is not available. Available metrics are: loss,accuracy\n",
      "139/139 [==============================] - 0s 997us/step - loss: 0.4352 - accuracy: 0.7930\n",
      "Epoch 154/250\n",
      " 68/139 [=============>................] - ETA: 0s - loss: 0.4179 - accuracy: 0.8013WARNING:tensorflow:Early stopping conditioned on metric `val_loss` which is not available. Available metrics are: loss,accuracy\n",
      "139/139 [==============================] - 0s 913us/step - loss: 0.4211 - accuracy: 0.7967\n",
      "Epoch 155/250\n",
      "101/139 [====================>.........] - ETA: 0s - loss: 0.4640 - accuracy: 0.7728WARNING:tensorflow:Early stopping conditioned on metric `val_loss` which is not available. Available metrics are: loss,accuracy\n",
      "139/139 [==============================] - 0s 1ms/step - loss: 0.4520 - accuracy: 0.7814\n",
      "Epoch 156/250\n",
      "134/139 [===========================>..] - ETA: 0s - loss: 0.4373 - accuracy: 0.7887WARNING:tensorflow:Early stopping conditioned on metric `val_loss` which is not available. Available metrics are: loss,accuracy\n",
      "139/139 [==============================] - 0s 961us/step - loss: 0.4341 - accuracy: 0.7914\n"
     ]
    },
    {
     "name": "stdout",
     "output_type": "stream",
     "text": [
      "Epoch 157/250\n",
      " 94/139 [===================>..........] - ETA: 0s - loss: 0.4201 - accuracy: 0.7997WARNING:tensorflow:Early stopping conditioned on metric `val_loss` which is not available. Available metrics are: loss,accuracy\n",
      "139/139 [==============================] - 0s 1ms/step - loss: 0.4281 - accuracy: 0.7957\n",
      "Epoch 158/250\n",
      "114/139 [=======================>......] - ETA: 0s - loss: 0.4392 - accuracy: 0.7962WARNING:tensorflow:Early stopping conditioned on metric `val_loss` which is not available. Available metrics are: loss,accuracy\n",
      "139/139 [==============================] - 0s 1ms/step - loss: 0.4366 - accuracy: 0.7959\n",
      "Epoch 159/250\n",
      " 86/139 [=================>............] - ETA: 0s - loss: 0.4339 - accuracy: 0.7877WARNING:tensorflow:Early stopping conditioned on metric `val_loss` which is not available. Available metrics are: loss,accuracy\n",
      "139/139 [==============================] - 0s 1ms/step - loss: 0.4246 - accuracy: 0.7930\n",
      "Epoch 160/250\n",
      " 86/139 [=================>............] - ETA: 0s - loss: 0.4388 - accuracy: 0.7940WARNING:tensorflow:Early stopping conditioned on metric `val_loss` which is not available. Available metrics are: loss,accuracy\n",
      "139/139 [==============================] - 0s 804us/step - loss: 0.4316 - accuracy: 0.7998\n",
      "Epoch 161/250\n",
      "110/139 [======================>.......] - ETA: 0s - loss: 0.4362 - accuracy: 0.7919WARNING:tensorflow:Early stopping conditioned on metric `val_loss` which is not available. Available metrics are: loss,accuracy\n",
      "139/139 [==============================] - 0s 1ms/step - loss: 0.4350 - accuracy: 0.7930\n",
      "Epoch 162/250\n",
      "116/139 [========================>.....] - ETA: 0s - loss: 0.4377 - accuracy: 0.7901WARNING:tensorflow:Early stopping conditioned on metric `val_loss` which is not available. Available metrics are: loss,accuracy\n",
      "139/139 [==============================] - 0s 1000us/step - loss: 0.4312 - accuracy: 0.7963\n",
      "Epoch 163/250\n",
      "120/139 [========================>.....] - ETA: 0s - loss: 0.4481 - accuracy: 0.7840WARNING:tensorflow:Early stopping conditioned on metric `val_loss` which is not available. Available metrics are: loss,accuracy\n",
      "139/139 [==============================] - 0s 993us/step - loss: 0.4412 - accuracy: 0.7864\n",
      "Epoch 164/250\n",
      "118/139 [========================>.....] - ETA: 0s - loss: 0.4414 - accuracy: 0.7869WARNING:tensorflow:Early stopping conditioned on metric `val_loss` which is not available. Available metrics are: loss,accuracy\n",
      "139/139 [==============================] - 0s 855us/step - loss: 0.4339 - accuracy: 0.7918\n",
      "Epoch 165/250\n",
      " 85/139 [=================>............] - ETA: 0s - loss: 0.4298 - accuracy: 0.7929WARNING:tensorflow:Early stopping conditioned on metric `val_loss` which is not available. Available metrics are: loss,accuracy\n",
      "139/139 [==============================] - 0s 795us/step - loss: 0.4412 - accuracy: 0.7864\n",
      "Epoch 166/250\n",
      "131/139 [===========================>..] - ETA: 0s - loss: 0.4311 - accuracy: 0.7963WARNING:tensorflow:Early stopping conditioned on metric `val_loss` which is not available. Available metrics are: loss,accuracy\n",
      "139/139 [==============================] - 0s 947us/step - loss: 0.4277 - accuracy: 0.7982\n",
      "Epoch 167/250\n",
      "139/139 [==============================] - ETA: 0s - loss: 0.4215 - accuracy: 0.8027WARNING:tensorflow:Early stopping conditioned on metric `val_loss` which is not available. Available metrics are: loss,accuracy\n",
      "139/139 [==============================] - 0s 901us/step - loss: 0.4215 - accuracy: 0.8027\n",
      "Epoch 168/250\n",
      "136/139 [============================>.] - ETA: 0s - loss: 0.4212 - accuracy: 0.8029WARNING:tensorflow:Early stopping conditioned on metric `val_loss` which is not available. Available metrics are: loss,accuracy\n",
      "139/139 [==============================] - 0s 832us/step - loss: 0.4218 - accuracy: 0.8027\n",
      "Epoch 169/250\n",
      " 68/139 [=============>................] - ETA: 0s - loss: 0.4290 - accuracy: 0.7903WARNING:tensorflow:Early stopping conditioned on metric `val_loss` which is not available. Available metrics are: loss,accuracy\n",
      "139/139 [==============================] - 0s 909us/step - loss: 0.4288 - accuracy: 0.7914\n",
      "Epoch 170/250\n",
      " 73/139 [==============>...............] - ETA: 0s - loss: 0.4224 - accuracy: 0.8004WARNING:tensorflow:Early stopping conditioned on metric `val_loss` which is not available. Available metrics are: loss,accuracy\n",
      "139/139 [==============================] - 0s 893us/step - loss: 0.4189 - accuracy: 0.8050\n",
      "Epoch 171/250\n",
      " 72/139 [==============>...............] - ETA: 0s - loss: 0.4180 - accuracy: 0.8048WARNING:tensorflow:Early stopping conditioned on metric `val_loss` which is not available. Available metrics are: loss,accuracy\n",
      "139/139 [==============================] - 0s 839us/step - loss: 0.4310 - accuracy: 0.7924\n",
      "Epoch 172/250\n",
      "127/139 [==========================>...] - ETA: 0s - loss: 0.4247 - accuracy: 0.8002WARNING:tensorflow:Early stopping conditioned on metric `val_loss` which is not available. Available metrics are: loss,accuracy\n",
      "139/139 [==============================] - 0s 1ms/step - loss: 0.4249 - accuracy: 0.8013\n",
      "Epoch 173/250\n",
      " 71/139 [==============>...............] - ETA: 0s - loss: 0.4415 - accuracy: 0.7895WARNING:tensorflow:Early stopping conditioned on metric `val_loss` which is not available. Available metrics are: loss,accuracy\n",
      "139/139 [==============================] - 0s 909us/step - loss: 0.4229 - accuracy: 0.8009\n",
      "Epoch 174/250\n",
      " 63/139 [============>.................] - ETA: 0s - loss: 0.4144 - accuracy: 0.7941WARNING:tensorflow:Early stopping conditioned on metric `val_loss` which is not available. Available metrics are: loss,accuracy\n",
      "139/139 [==============================] - 0s 795us/step - loss: 0.4207 - accuracy: 0.7961\n",
      "Epoch 175/250\n",
      " 66/139 [=============>................] - ETA: 0s - loss: 0.4267 - accuracy: 0.8043WARNING:tensorflow:Early stopping conditioned on metric `val_loss` which is not available. Available metrics are: loss,accuracy\n",
      "139/139 [==============================] - 0s 907us/step - loss: 0.4248 - accuracy: 0.8044\n",
      "Epoch 176/250\n",
      " 72/139 [==============>...............] - ETA: 0s - loss: 0.4404 - accuracy: 0.7861WARNING:tensorflow:Early stopping conditioned on metric `val_loss` which is not available. Available metrics are: loss,accuracy\n",
      "139/139 [==============================] - 0s 910us/step - loss: 0.4319 - accuracy: 0.7924\n",
      "Epoch 177/250\n",
      " 76/139 [===============>..............] - ETA: 0s - loss: 0.4429 - accuracy: 0.7902WARNING:tensorflow:Early stopping conditioned on metric `val_loss` which is not available. Available metrics are: loss,accuracy\n",
      "139/139 [==============================] - 0s 796us/step - loss: 0.4281 - accuracy: 0.7982\n",
      "Epoch 178/250\n",
      " 82/139 [================>.............] - ETA: 0s - loss: 0.4198 - accuracy: 0.7965WARNING:tensorflow:Early stopping conditioned on metric `val_loss` which is not available. Available metrics are: loss,accuracy\n",
      "139/139 [==============================] - 0s 795us/step - loss: 0.4276 - accuracy: 0.7951\n",
      "Epoch 179/250\n",
      "132/139 [===========================>..] - ETA: 0s - loss: 0.4270 - accuracy: 0.7970WARNING:tensorflow:Early stopping conditioned on metric `val_loss` which is not available. Available metrics are: loss,accuracy\n",
      "139/139 [==============================] - 0s 936us/step - loss: 0.4259 - accuracy: 0.7969\n",
      "Epoch 180/250\n",
      " 76/139 [===============>..............] - ETA: 0s - loss: 0.4333 - accuracy: 0.7917WARNING:tensorflow:Early stopping conditioned on metric `val_loss` which is not available. Available metrics are: loss,accuracy\n",
      "139/139 [==============================] - 0s 796us/step - loss: 0.4301 - accuracy: 0.7971\n",
      "Epoch 181/250\n",
      " 83/139 [================>.............] - ETA: 0s - loss: 0.4170 - accuracy: 0.8055WARNING:tensorflow:Early stopping conditioned on metric `val_loss` which is not available. Available metrics are: loss,accuracy\n",
      "139/139 [==============================] - 0s 791us/step - loss: 0.4178 - accuracy: 0.8044\n",
      "Epoch 182/250\n",
      "138/139 [============================>.] - ETA: 0s - loss: 0.4179 - accuracy: 0.7994WARNING:tensorflow:Early stopping conditioned on metric `val_loss` which is not available. Available metrics are: loss,accuracy\n",
      "139/139 [==============================] - 0s 1ms/step - loss: 0.4179 - accuracy: 0.7992\n"
     ]
    },
    {
     "name": "stdout",
     "output_type": "stream",
     "text": [
      "Epoch 183/250\n",
      "139/139 [==============================] - ETA: 0s - loss: 0.4353 - accuracy: 0.7870WARNING:tensorflow:Early stopping conditioned on metric `val_loss` which is not available. Available metrics are: loss,accuracy\n",
      "139/139 [==============================] - 0s 929us/step - loss: 0.4353 - accuracy: 0.7870\n",
      "Epoch 184/250\n",
      " 73/139 [==============>...............] - ETA: 0s - loss: 0.4266 - accuracy: 0.7945WARNING:tensorflow:Early stopping conditioned on metric `val_loss` which is not available. Available metrics are: loss,accuracy\n",
      "139/139 [==============================] - 0s 912us/step - loss: 0.4329 - accuracy: 0.7928\n",
      "Epoch 185/250\n",
      " 78/139 [===============>..............] - ETA: 0s - loss: 0.4222 - accuracy: 0.7971WARNING:tensorflow:Early stopping conditioned on metric `val_loss` which is not available. Available metrics are: loss,accuracy\n",
      "139/139 [==============================] - 0s 795us/step - loss: 0.4200 - accuracy: 0.7988\n",
      "Epoch 186/250\n",
      " 84/139 [=================>............] - ETA: 0s - loss: 0.4084 - accuracy: 0.8112WARNING:tensorflow:Early stopping conditioned on metric `val_loss` which is not available. Available metrics are: loss,accuracy\n",
      "139/139 [==============================] - 0s 796us/step - loss: 0.4195 - accuracy: 0.8046\n",
      "Epoch 187/250\n",
      " 69/139 [=============>................] - ETA: 0s - loss: 0.4291 - accuracy: 0.7971WARNING:tensorflow:Early stopping conditioned on metric `val_loss` which is not available. Available metrics are: loss,accuracy\n",
      "139/139 [==============================] - 0s 935us/step - loss: 0.4405 - accuracy: 0.7907\n",
      "Epoch 188/250\n",
      " 79/139 [================>.............] - ETA: 0s - loss: 0.4282 - accuracy: 0.7946WARNING:tensorflow:Early stopping conditioned on metric `val_loss` which is not available. Available metrics are: loss,accuracy\n",
      "139/139 [==============================] - 0s 764us/step - loss: 0.4241 - accuracy: 0.7980\n",
      "Epoch 189/250\n",
      " 85/139 [=================>............] - ETA: 0s - loss: 0.4137 - accuracy: 0.8003WARNING:tensorflow:Early stopping conditioned on metric `val_loss` which is not available. Available metrics are: loss,accuracy\n",
      "139/139 [==============================] - 0s 799us/step - loss: 0.4285 - accuracy: 0.7996\n",
      "Epoch 190/250\n",
      " 69/139 [=============>................] - ETA: 0s - loss: 0.4351 - accuracy: 0.7975WARNING:tensorflow:Early stopping conditioned on metric `val_loss` which is not available. Available metrics are: loss,accuracy\n",
      "139/139 [==============================] - 0s 908us/step - loss: 0.4171 - accuracy: 0.8042\n",
      "Epoch 191/250\n",
      " 75/139 [===============>..............] - ETA: 0s - loss: 0.4197 - accuracy: 0.8072WARNING:tensorflow:Early stopping conditioned on metric `val_loss` which is not available. Available metrics are: loss,accuracy\n",
      "139/139 [==============================] - 0s 909us/step - loss: 0.4099 - accuracy: 0.8114\n",
      "Epoch 192/250\n",
      "126/139 [==========================>...] - ETA: 0s - loss: 0.4276 - accuracy: 0.7946WARNING:tensorflow:Early stopping conditioned on metric `val_loss` which is not available. Available metrics are: loss,accuracy\n",
      "139/139 [==============================] - 0s 916us/step - loss: 0.4275 - accuracy: 0.7953\n",
      "Epoch 193/250\n",
      " 69/139 [=============>................] - ETA: 0s - loss: 0.4442 - accuracy: 0.7896WARNING:tensorflow:Early stopping conditioned on metric `val_loss` which is not available. Available metrics are: loss,accuracy\n",
      "139/139 [==============================] - 0s 912us/step - loss: 0.4315 - accuracy: 0.7969\n",
      "Epoch 194/250\n",
      " 77/139 [===============>..............] - ETA: 0s - loss: 0.4198 - accuracy: 0.7985WARNING:tensorflow:Early stopping conditioned on metric `val_loss` which is not available. Available metrics are: loss,accuracy\n",
      "139/139 [==============================] - 0s 795us/step - loss: 0.4127 - accuracy: 0.8077\n",
      "Epoch 195/250\n",
      " 84/139 [=================>............] - ETA: 0s - loss: 0.4488 - accuracy: 0.7816WARNING:tensorflow:Early stopping conditioned on metric `val_loss` which is not available. Available metrics are: loss,accuracy\n",
      "139/139 [==============================] - 0s 796us/step - loss: 0.4326 - accuracy: 0.7893\n",
      "Epoch 196/250\n",
      "131/139 [===========================>..] - ETA: 0s - loss: 0.4179 - accuracy: 0.8070WARNING:tensorflow:Early stopping conditioned on metric `val_loss` which is not available. Available metrics are: loss,accuracy\n",
      "139/139 [==============================] - 0s 936us/step - loss: 0.4177 - accuracy: 0.8056\n",
      "Epoch 197/250\n",
      " 74/139 [==============>...............] - ETA: 0s - loss: 0.4159 - accuracy: 0.8023WARNING:tensorflow:Early stopping conditioned on metric `val_loss` which is not available. Available metrics are: loss,accuracy\n",
      "139/139 [==============================] - 0s 909us/step - loss: 0.4183 - accuracy: 0.8019\n",
      "Epoch 198/250\n",
      " 81/139 [================>.............] - ETA: 0s - loss: 0.4242 - accuracy: 0.7968WARNING:tensorflow:Early stopping conditioned on metric `val_loss` which is not available. Available metrics are: loss,accuracy\n",
      "139/139 [==============================] - 0s 795us/step - loss: 0.4217 - accuracy: 0.8009\n",
      "Epoch 199/250\n",
      " 69/139 [=============>................] - ETA: 0s - loss: 0.4237 - accuracy: 0.8017WARNING:tensorflow:Early stopping conditioned on metric `val_loss` which is not available. Available metrics are: loss,accuracy\n",
      "139/139 [==============================] - 0s 824us/step - loss: 0.4161 - accuracy: 0.8042\n",
      "Epoch 200/250\n",
      " 75/139 [===============>..............] - ETA: 0s - loss: 0.4610 - accuracy: 0.7794WARNING:tensorflow:Early stopping conditioned on metric `val_loss` which is not available. Available metrics are: loss,accuracy\n",
      "139/139 [==============================] - 0s 912us/step - loss: 0.4461 - accuracy: 0.7862\n",
      "Epoch 201/250\n",
      "138/139 [============================>.] - ETA: 0s - loss: 0.4283 - accuracy: 0.8008WARNING:tensorflow:Early stopping conditioned on metric `val_loss` which is not available. Available metrics are: loss,accuracy\n",
      "139/139 [==============================] - 0s 1ms/step - loss: 0.4285 - accuracy: 0.8009\n",
      "Epoch 202/250\n",
      " 77/139 [===============>..............] - ETA: 0s - loss: 0.4116 - accuracy: 0.8189WARNING:tensorflow:Early stopping conditioned on metric `val_loss` which is not available. Available metrics are: loss,accuracy\n",
      "139/139 [==============================] - 0s 795us/step - loss: 0.4231 - accuracy: 0.8033\n",
      "Epoch 203/250\n",
      " 65/139 [=============>................] - ETA: 0s - loss: 0.4166 - accuracy: 0.8026WARNING:tensorflow:Early stopping conditioned on metric `val_loss` which is not available. Available metrics are: loss,accuracy\n",
      "139/139 [==============================] - 0s 910us/step - loss: 0.4174 - accuracy: 0.8069\n",
      "Epoch 204/250\n",
      " 72/139 [==============>...............] - ETA: 0s - loss: 0.4341 - accuracy: 0.7905WARNING:tensorflow:Early stopping conditioned on metric `val_loss` which is not available. Available metrics are: loss,accuracy\n",
      "139/139 [==============================] - 0s 907us/step - loss: 0.4301 - accuracy: 0.7924\n",
      "Epoch 205/250\n",
      " 73/139 [==============>...............] - ETA: 0s - loss: 0.4208 - accuracy: 0.7992WARNING:tensorflow:Early stopping conditioned on metric `val_loss` which is not available. Available metrics are: loss,accuracy\n",
      "139/139 [==============================] - 0s 794us/step - loss: 0.4221 - accuracy: 0.7996\n",
      "Epoch 206/250\n",
      " 82/139 [================>.............] - ETA: 0s - loss: 0.4116 - accuracy: 0.8084WARNING:tensorflow:Early stopping conditioned on metric `val_loss` which is not available. Available metrics are: loss,accuracy\n",
      "139/139 [==============================] - 0s 836us/step - loss: 0.4138 - accuracy: 0.8062\n",
      "Epoch 207/250\n",
      " 70/139 [==============>...............] - ETA: 0s - loss: 0.4029 - accuracy: 0.8180WARNING:tensorflow:Early stopping conditioned on metric `val_loss` which is not available. Available metrics are: loss,accuracy\n",
      "139/139 [==============================] - 0s 872us/step - loss: 0.4232 - accuracy: 0.7996\n",
      "Epoch 208/250\n",
      " 80/139 [================>.............] - ETA: 0s - loss: 0.4103 - accuracy: 0.8039WARNING:tensorflow:Early stopping conditioned on metric `val_loss` which is not available. Available metrics are: loss,accuracy\n",
      "139/139 [==============================] - 0s 795us/step - loss: 0.4153 - accuracy: 0.8038\n"
     ]
    },
    {
     "name": "stdout",
     "output_type": "stream",
     "text": [
      "Epoch 209/250\n",
      "137/139 [============================>.] - ETA: 0s - loss: 0.4185 - accuracy: 0.8010WARNING:tensorflow:Early stopping conditioned on metric `val_loss` which is not available. Available metrics are: loss,accuracy\n",
      "139/139 [==============================] - 0s 943us/step - loss: 0.4180 - accuracy: 0.8017\n",
      "Epoch 210/250\n",
      " 80/139 [================>.............] - ETA: 0s - loss: 0.4229 - accuracy: 0.8021WARNING:tensorflow:Early stopping conditioned on metric `val_loss` which is not available. Available metrics are: loss,accuracy\n",
      "139/139 [==============================] - 0s 795us/step - loss: 0.4308 - accuracy: 0.7982\n",
      "Epoch 211/250\n",
      " 79/139 [================>.............] - ETA: 0s - loss: 0.4122 - accuracy: 0.8076WARNING:tensorflow:Early stopping conditioned on metric `val_loss` which is not available. Available metrics are: loss,accuracy\n",
      "139/139 [==============================] - 0s 912us/step - loss: 0.4205 - accuracy: 0.8013\n",
      "Epoch 212/250\n",
      " 77/139 [===============>..............] - ETA: 0s - loss: 0.4409 - accuracy: 0.7837WARNING:tensorflow:Early stopping conditioned on metric `val_loss` which is not available. Available metrics are: loss,accuracy\n",
      "139/139 [==============================] - 0s 796us/step - loss: 0.4233 - accuracy: 0.7971\n",
      "Epoch 213/250\n",
      "130/139 [===========================>..] - ETA: 0s - loss: 0.4220 - accuracy: 0.8002WARNING:tensorflow:Early stopping conditioned on metric `val_loss` which is not available. Available metrics are: loss,accuracy\n",
      "139/139 [==============================] - 0s 929us/step - loss: 0.4219 - accuracy: 0.8002\n",
      "Epoch 214/250\n",
      "136/139 [============================>.] - ETA: 0s - loss: 0.4185 - accuracy: 0.8046WARNING:tensorflow:Early stopping conditioned on metric `val_loss` which is not available. Available metrics are: loss,accuracy\n",
      "139/139 [==============================] - 0s 909us/step - loss: 0.4164 - accuracy: 0.8065\n",
      "Epoch 215/250\n",
      " 81/139 [================>.............] - ETA: 0s - loss: 0.4323 - accuracy: 0.7919WARNING:tensorflow:Early stopping conditioned on metric `val_loss` which is not available. Available metrics are: loss,accuracy\n",
      "139/139 [==============================] - 0s 796us/step - loss: 0.4257 - accuracy: 0.7949\n",
      "Epoch 216/250\n",
      " 68/139 [=============>................] - ETA: 0s - loss: 0.4435 - accuracy: 0.7992WARNING:tensorflow:Early stopping conditioned on metric `val_loss` which is not available. Available metrics are: loss,accuracy\n",
      "139/139 [==============================] - 0s 912us/step - loss: 0.4373 - accuracy: 0.7951\n",
      "Epoch 217/250\n",
      " 73/139 [==============>...............] - ETA: 0s - loss: 0.3930 - accuracy: 0.8133WARNING:tensorflow:Early stopping conditioned on metric `val_loss` which is not available. Available metrics are: loss,accuracy\n",
      "139/139 [==============================] - 0s 909us/step - loss: 0.4163 - accuracy: 0.8002\n",
      "Epoch 218/250\n",
      " 80/139 [================>.............] - ETA: 0s - loss: 0.4175 - accuracy: 0.8004WARNING:tensorflow:Early stopping conditioned on metric `val_loss` which is not available. Available metrics are: loss,accuracy\n",
      "139/139 [==============================] - 0s 808us/step - loss: 0.4243 - accuracy: 0.7940\n",
      "Epoch 219/250\n",
      "129/139 [==========================>...] - ETA: 0s - loss: 0.4175 - accuracy: 0.8018WARNING:tensorflow:Early stopping conditioned on metric `val_loss` which is not available. Available metrics are: loss,accuracy\n",
      "139/139 [==============================] - 0s 909us/step - loss: 0.4178 - accuracy: 0.8015\n",
      "Epoch 220/250\n",
      " 72/139 [==============>...............] - ETA: 0s - loss: 0.4252 - accuracy: 0.8044WARNING:tensorflow:Early stopping conditioned on metric `val_loss` which is not available. Available metrics are: loss,accuracy\n",
      "139/139 [==============================] - 0s 909us/step - loss: 0.4274 - accuracy: 0.7990\n",
      "Epoch 221/250\n",
      " 77/139 [===============>..............] - ETA: 0s - loss: 0.4192 - accuracy: 0.7989WARNING:tensorflow:Early stopping conditioned on metric `val_loss` which is not available. Available metrics are: loss,accuracy\n",
      "139/139 [==============================] - 0s 912us/step - loss: 0.4179 - accuracy: 0.7988\n",
      "Epoch 222/250\n",
      " 78/139 [===============>..............] - ETA: 0s - loss: 0.4130 - accuracy: 0.8095WARNING:tensorflow:Early stopping conditioned on metric `val_loss` which is not available. Available metrics are: loss,accuracy\n",
      "139/139 [==============================] - 0s 800us/step - loss: 0.4186 - accuracy: 0.8033\n",
      "Epoch 223/250\n",
      " 71/139 [==============>...............] - ETA: 0s - loss: 0.4197 - accuracy: 0.8016WARNING:tensorflow:Early stopping conditioned on metric `val_loss` which is not available. Available metrics are: loss,accuracy\n",
      "139/139 [==============================] - 0s 795us/step - loss: 0.4165 - accuracy: 0.7990\n",
      "Epoch 224/250\n",
      " 69/139 [=============>................] - ETA: 0s - loss: 0.4088 - accuracy: 0.8058WARNING:tensorflow:Early stopping conditioned on metric `val_loss` which is not available. Available metrics are: loss,accuracy\n",
      "139/139 [==============================] - 0s 909us/step - loss: 0.4174 - accuracy: 0.8021\n",
      "Epoch 225/250\n",
      " 78/139 [===============>..............] - ETA: 0s - loss: 0.4177 - accuracy: 0.7945WARNING:tensorflow:Early stopping conditioned on metric `val_loss` which is not available. Available metrics are: loss,accuracy\n",
      "139/139 [==============================] - 0s 857us/step - loss: 0.4141 - accuracy: 0.7965\n",
      "Epoch 226/250\n",
      " 65/139 [=============>................] - ETA: 0s - loss: 0.4361 - accuracy: 0.7873WARNING:tensorflow:Early stopping conditioned on metric `val_loss` which is not available. Available metrics are: loss,accuracy\n",
      "139/139 [==============================] - 0s 892us/step - loss: 0.4233 - accuracy: 0.8002\n",
      "Epoch 227/250\n",
      " 73/139 [==============>...............] - ETA: 0s - loss: 0.4223 - accuracy: 0.7977WARNING:tensorflow:Early stopping conditioned on metric `val_loss` which is not available. Available metrics are: loss,accuracy\n",
      "139/139 [==============================] - 0s 878us/step - loss: 0.4227 - accuracy: 0.7957\n",
      "Epoch 228/250\n",
      " 73/139 [==============>...............] - ETA: 0s - loss: 0.4216 - accuracy: 0.8000WARNING:tensorflow:Early stopping conditioned on metric `val_loss` which is not available. Available metrics are: loss,accuracy\n",
      "139/139 [==============================] - 0s 795us/step - loss: 0.4298 - accuracy: 0.7951\n",
      "Epoch 229/250\n",
      " 71/139 [==============>...............] - ETA: 0s - loss: 0.4206 - accuracy: 0.7903WARNING:tensorflow:Early stopping conditioned on metric `val_loss` which is not available. Available metrics are: loss,accuracy\n",
      "139/139 [==============================] - 0s 909us/step - loss: 0.4112 - accuracy: 0.8038\n",
      "Epoch 230/250\n",
      " 78/139 [===============>..............] - ETA: 0s - loss: 0.4170 - accuracy: 0.8088WARNING:tensorflow:Early stopping conditioned on metric `val_loss` which is not available. Available metrics are: loss,accuracy\n",
      "139/139 [==============================] - 0s 912us/step - loss: 0.4092 - accuracy: 0.8114\n",
      "Epoch 231/250\n",
      "130/139 [===========================>..] - ETA: 0s - loss: 0.4115 - accuracy: 0.8086WARNING:tensorflow:Early stopping conditioned on metric `val_loss` which is not available. Available metrics are: loss,accuracy\n",
      "139/139 [==============================] - 0s 936us/step - loss: 0.4110 - accuracy: 0.8083\n",
      "Epoch 232/250\n",
      " 71/139 [==============>...............] - ETA: 0s - loss: 0.4057 - accuracy: 0.8060WARNING:tensorflow:Early stopping conditioned on metric `val_loss` which is not available. Available metrics are: loss,accuracy\n",
      "139/139 [==============================] - 0s 909us/step - loss: 0.4166 - accuracy: 0.8033\n",
      "Epoch 233/250\n",
      " 81/139 [================>.............] - ETA: 0s - loss: 0.4099 - accuracy: 0.8056WARNING:tensorflow:Early stopping conditioned on metric `val_loss` which is not available. Available metrics are: loss,accuracy\n",
      "139/139 [==============================] - 0s 795us/step - loss: 0.4183 - accuracy: 0.8025\n",
      "Epoch 234/250\n",
      " 67/139 [=============>................] - ETA: 0s - loss: 0.4085 - accuracy: 0.8128WARNING:tensorflow:Early stopping conditioned on metric `val_loss` which is not available. Available metrics are: loss,accuracy\n",
      "139/139 [==============================] - 0s 909us/step - loss: 0.4078 - accuracy: 0.8096\n"
     ]
    },
    {
     "name": "stdout",
     "output_type": "stream",
     "text": [
      "Epoch 235/250\n",
      " 77/139 [===============>..............] - ETA: 0s - loss: 0.4304 - accuracy: 0.7896WARNING:tensorflow:Early stopping conditioned on metric `val_loss` which is not available. Available metrics are: loss,accuracy\n",
      "139/139 [==============================] - 0s 753us/step - loss: 0.4301 - accuracy: 0.7926\n",
      "Epoch 236/250\n",
      " 79/139 [================>.............] - ETA: 0s - loss: 0.4151 - accuracy: 0.8014WARNING:tensorflow:Early stopping conditioned on metric `val_loss` which is not available. Available metrics are: loss,accuracy\n",
      "139/139 [==============================] - 0s 795us/step - loss: 0.4175 - accuracy: 0.8011\n",
      "Epoch 237/250\n",
      " 66/139 [=============>................] - ETA: 0s - loss: 0.4212 - accuracy: 0.8061WARNING:tensorflow:Early stopping conditioned on metric `val_loss` which is not available. Available metrics are: loss,accuracy\n",
      "139/139 [==============================] - 0s 909us/step - loss: 0.4086 - accuracy: 0.8104\n",
      "Epoch 238/250\n",
      " 73/139 [==============>...............] - ETA: 0s - loss: 0.4103 - accuracy: 0.8070WARNING:tensorflow:Early stopping conditioned on metric `val_loss` which is not available. Available metrics are: loss,accuracy\n",
      "139/139 [==============================] - 0s 909us/step - loss: 0.4178 - accuracy: 0.8046\n",
      "Epoch 239/250\n",
      " 79/139 [================>.............] - ETA: 0s - loss: 0.4140 - accuracy: 0.8145WARNING:tensorflow:Early stopping conditioned on metric `val_loss` which is not available. Available metrics are: loss,accuracy\n",
      "139/139 [==============================] - 0s 875us/step - loss: 0.4119 - accuracy: 0.8108\n",
      "Epoch 240/250\n",
      " 66/139 [=============>................] - ETA: 0s - loss: 0.4249 - accuracy: 0.7926WARNING:tensorflow:Early stopping conditioned on metric `val_loss` which is not available. Available metrics are: loss,accuracy\n",
      "139/139 [==============================] - 0s 859us/step - loss: 0.4162 - accuracy: 0.8033\n",
      "Epoch 241/250\n",
      "136/139 [============================>.] - ETA: 0s - loss: 0.4179 - accuracy: 0.8082WARNING:tensorflow:Early stopping conditioned on metric `val_loss` which is not available. Available metrics are: loss,accuracy\n",
      "139/139 [==============================] - 0s 1ms/step - loss: 0.4170 - accuracy: 0.8089\n",
      "Epoch 242/250\n",
      " 79/139 [================>.............] - ETA: 0s - loss: 0.4186 - accuracy: 0.8014WARNING:tensorflow:Early stopping conditioned on metric `val_loss` which is not available. Available metrics are: loss,accuracy\n",
      "139/139 [==============================] - 0s 795us/step - loss: 0.4178 - accuracy: 0.7988\n",
      "Epoch 243/250\n",
      " 66/139 [=============>................] - ETA: 0s - loss: 0.4189 - accuracy: 0.7996WARNING:tensorflow:Early stopping conditioned on metric `val_loss` which is not available. Available metrics are: loss,accuracy\n",
      "139/139 [==============================] - 0s 905us/step - loss: 0.4135 - accuracy: 0.8042\n",
      "Epoch 244/250\n",
      "134/139 [===========================>..] - ETA: 0s - loss: 0.4193 - accuracy: 0.8006WARNING:tensorflow:Early stopping conditioned on metric `val_loss` which is not available. Available metrics are: loss,accuracy\n",
      "139/139 [==============================] - 0s 874us/step - loss: 0.4182 - accuracy: 0.8000\n",
      "Epoch 245/250\n",
      " 77/139 [===============>..............] - ETA: 0s - loss: 0.4186 - accuracy: 0.7993WARNING:tensorflow:Early stopping conditioned on metric `val_loss` which is not available. Available metrics are: loss,accuracy\n",
      "139/139 [==============================] - 0s 795us/step - loss: 0.4124 - accuracy: 0.8058\n",
      "Epoch 246/250\n",
      " 74/139 [==============>...............] - ETA: 0s - loss: 0.4322 - accuracy: 0.7884WARNING:tensorflow:Early stopping conditioned on metric `val_loss` which is not available. Available metrics are: loss,accuracy\n",
      "139/139 [==============================] - 0s 796us/step - loss: 0.4433 - accuracy: 0.7845\n",
      "Epoch 247/250\n",
      " 71/139 [==============>...............] - ETA: 0s - loss: 0.4250 - accuracy: 0.7956WARNING:tensorflow:Early stopping conditioned on metric `val_loss` which is not available. Available metrics are: loss,accuracy\n",
      "139/139 [==============================] - 0s 909us/step - loss: 0.4178 - accuracy: 0.8023\n",
      "Epoch 248/250\n",
      " 77/139 [===============>..............] - ETA: 0s - loss: 0.4093 - accuracy: 0.8059WARNING:tensorflow:Early stopping conditioned on metric `val_loss` which is not available. Available metrics are: loss,accuracy\n",
      "139/139 [==============================] - 0s 910us/step - loss: 0.4162 - accuracy: 0.8040\n",
      "Epoch 249/250\n",
      " 81/139 [================>.............] - ETA: 0s - loss: 0.4397 - accuracy: 0.7841WARNING:tensorflow:Early stopping conditioned on metric `val_loss` which is not available. Available metrics are: loss,accuracy\n",
      "139/139 [==============================] - 0s 795us/step - loss: 0.4262 - accuracy: 0.7957\n",
      "Epoch 250/250\n",
      " 60/139 [===========>..................] - ETA: 0s - loss: 0.4015 - accuracy: 0.8171WARNING:tensorflow:Early stopping conditioned on metric `val_loss` which is not available. Available metrics are: loss,accuracy\n",
      "139/139 [==============================] - 0s 909us/step - loss: 0.4049 - accuracy: 0.8083\n"
     ]
    }
   ],
   "source": [
    "# Train the model\n",
    "history = model.fit(X_train, \n",
    "                    Y_train, \n",
    "                    validation_data = (X_test, Y_test),\n",
    "                    batch_size = 35,\n",
    "                    epochs = 250,\n",
    "                    validation_steps = 100,\n",
    "                    callbacks = [es]\n",
    "                   )"
   ]
  },
  {
   "cell_type": "code",
   "execution_count": 72,
   "id": "1f392fec",
   "metadata": {},
   "outputs": [
    {
     "name": "stdout",
     "output_type": "stream",
     "text": [
      "101/101 [==============================] - 0s 625us/step - loss: 0.4705 - accuracy: 0.7913\n"
     ]
    },
    {
     "data": {
      "text/plain": [
       "[0.470538467168808, 0.7913178205490112]"
      ]
     },
     "execution_count": 72,
     "metadata": {},
     "output_type": "execute_result"
    }
   ],
   "source": [
    "model.evaluate(X_test, Y_test)"
   ]
  },
  {
   "cell_type": "markdown",
   "id": "03cbdf0c",
   "metadata": {},
   "source": [
    "# Plots"
   ]
  },
  {
   "cell_type": "code",
   "execution_count": 73,
   "id": "7e776666",
   "metadata": {},
   "outputs": [
    {
     "data": {
      "image/png": "[encoded data removed]",
      "text/plain": [
       "<Figure size 432x288 with 1 Axes>"
      ]
     },
     "metadata": {
      "needs_background": "light"
     },
     "output_type": "display_data"
    }
   ],
   "source": [
    "#loss\n",
    "from matplotlib import pyplot as plt\n",
    "plt.plot(history.history['loss'])\n",
    "plt.plot(history.history['val_loss'])\n",
    "plt.title('model loss')\n",
    "plt.ylabel('loss')\n",
    "plt.xlabel('epoch')\n",
    "plt.legend(['train', 'validation'], loc='upper right')\n",
    "plt.show()"
   ]
  },
  {
   "cell_type": "code",
   "execution_count": 74,
   "id": "c884aa75",
   "metadata": {},
   "outputs": [
    {
     "data": {
      "image/png": "[encoded data removed]",
      "text/plain": [
       "<Figure size 432x288 with 1 Axes>"
      ]
     },
     "metadata": {
      "needs_background": "light"
     },
     "output_type": "display_data"
    }
   ],
   "source": [
    "#accuracy\n",
    "from matplotlib import pyplot as plt\n",
    "plt.plot(history.history['accuracy'])\n",
    "plt.plot(history.history['val_accuracy'])\n",
    "plt.title('model accuracy')\n",
    "plt.ylabel('accuracy')\n",
    "plt.xlabel('epoch')\n",
    "plt.legend(['train', 'validation'], loc='lower right')\n",
    "plt.show()"
   ]
  },
  {
   "cell_type": "code",
   "execution_count": 75,
   "id": "109b8b1d",
   "metadata": {},
   "outputs": [],
   "source": [
    "from tensorflow.keras.models import save_model\n",
    "model.save('models/best_model.h5')"
   ]
  },
  {
   "cell_type": "markdown",
   "id": "b4050923",
   "metadata": {},
   "source": [
    "## Custom Predictions"
   ]
  },
  {
   "cell_type": "code",
   "execution_count": 76,
   "id": "77109429",
   "metadata": {
    "scrolled": true
   },
   "outputs": [
    {
     "data": {
      "text/plain": [
       "array([[0.14202783],\n",
       "       [0.20151964],\n",
       "       [0.13078603],\n",
       "       [0.17182049],\n",
       "       [0.7493745 ]], dtype=float32)"
      ]
     },
     "execution_count": 76,
     "metadata": {},
     "output_type": "execute_result"
    }
   ],
   "source": [
    "y_pred = model.predict(X_test)\n",
    "y_pred[5:10]"
   ]
  },
  {
   "cell_type": "code",
   "execution_count": 77,
   "id": "3c9d6d7a",
   "metadata": {},
   "outputs": [],
   "source": [
    "y_pred1 = []\n",
    "for element in y_pred:\n",
    "    if element > 0.5:\n",
    "        y_pred1.append(1)\n",
    "    else:\n",
    "        y_pred1.append(0)"
   ]
  },
  {
   "cell_type": "code",
   "execution_count": 78,
   "id": "6a5ae690",
   "metadata": {},
   "outputs": [
    {
     "data": {
      "text/plain": [
       "array([1, 0, 0, 0, 1, 0, 0, 0, 0, 1, 0, 1, 0, 0, 1, 0, 0, 0], dtype=int64)"
      ]
     },
     "execution_count": 78,
     "metadata": {},
     "output_type": "execute_result"
    }
   ],
   "source": [
    "Y_test[2:20]"
   ]
  },
  {
   "cell_type": "code",
   "execution_count": 79,
   "id": "e96caa2d",
   "metadata": {},
   "outputs": [
    {
     "data": {
      "text/plain": [
       "[1, 0, 1, 0, 0, 0, 0, 1, 0, 0, 1, 0, 0, 0, 0, 0, 0, 1]"
      ]
     },
     "execution_count": 79,
     "metadata": {},
     "output_type": "execute_result"
    }
   ],
   "source": [
    "y_pred1[2:20]"
   ]
  },
  {
   "cell_type": "code",
   "execution_count": 80,
   "id": "0459752c",
   "metadata": {},
   "outputs": [
    {
     "name": "stdout",
     "output_type": "stream",
     "text": [
      "              precision    recall  f1-score   support\n",
      "\n",
      "           0       0.89      0.74      0.81      1937\n",
      "           1       0.69      0.86      0.77      1288\n",
      "\n",
      "    accuracy                           0.79      3225\n",
      "   macro avg       0.79      0.80      0.79      3225\n",
      "weighted avg       0.81      0.79      0.79      3225\n",
      "\n"
     ]
    }
   ],
   "source": [
    "# print the classification report\n",
    "from sklearn.metrics import classification_report, confusion_matrix \n",
    "print(classification_report(Y_test,y_pred1))"
   ]
  },
  {
   "cell_type": "code",
   "execution_count": 81,
   "id": "d41ac739",
   "metadata": {},
   "outputs": [
    {
     "data": {
      "text/plain": [
       "Text(69.0, 0.5, 'actual')"
      ]
     },
     "execution_count": 81,
     "metadata": {},
     "output_type": "execute_result"
    },
    {
     "data": {
      "image/png": "[encoded data removed]",
      "text/plain": [
       "<Figure size 720x576 with 2 Axes>"
      ]
     },
     "metadata": {
      "needs_background": "light"
     },
     "output_type": "display_data"
    }
   ],
   "source": [
    "# heatmap\n",
    "cm = tf.math.confusion_matrix(labels = Y_test, predictions = y_pred1)\n",
    "\n",
    "plt.figure(figsize = (10,8))\n",
    "sns.heatmap(cm, annot = True, fmt = 'd')\n",
    "plt.xlabel(\"predicted\")\n",
    "plt.ylabel(\"actual\")"
   ]
  },
  {
   "cell_type": "code",
   "execution_count": 82,
   "id": "2b7786ff",
   "metadata": {},
   "outputs": [
    {
     "data": {
      "text/plain": [
       "array([ 0.  , 79.  ,  0.  ,  0.  ,  1.  ,  2.  ,  0.  , 93.05, 24.2 ,\n",
       "        2.  ])"
      ]
     },
     "execution_count": 82,
     "metadata": {},
     "output_type": "execute_result"
    }
   ],
   "source": [
    "X[109]"
   ]
  },
  {
   "cell_type": "code",
   "execution_count": 83,
   "id": "9bb85287",
   "metadata": {},
   "outputs": [
    {
     "data": {
      "text/plain": [
       "1"
      ]
     },
     "execution_count": 83,
     "metadata": {},
     "output_type": "execute_result"
    }
   ],
   "source": [
    "y[109]"
   ]
  },
  {
   "cell_type": "code",
   "execution_count": 86,
   "id": "7dbea34e",
   "metadata": {},
   "outputs": [
    {
     "data": {
      "text/plain": [
       "array([[0.75941366]], dtype=float32)"
      ]
     },
     "execution_count": 86,
     "metadata": {},
     "output_type": "execute_result"
    }
   ],
   "source": [
    "model.predict([[ 0.  , 79.  ,  0.  ,  0.  ,  1.  ,  2.  ,  0.  , 93.05, 24.2 ,  2. ]])"
   ]
  },
  {
   "cell_type": "code",
   "execution_count": null,
   "id": "dec7b322",
   "metadata": {},
   "outputs": [],
   "source": []
  },
  {
   "cell_type": "code",
   "execution_count": null,
   "id": "93ec8f1d",
   "metadata": {},
   "outputs": [],
   "source": []
  }
 ],
 "metadata": {
  "kernelspec": {
   "display_name": "Python 3 (ipykernel)",
   "language": "python",
   "name": "python3"
  },
  "language_info": {
   "codemirror_mode": {
    "name": "ipython",
    "version": 3
   },
   "file_extension": ".py",
   "mimetype": "text/x-python",
   "name": "python",
   "nbconvert_exporter": "python",
   "pygments_lexer": "ipython3",
   "version": "3.9.7"
  }
 },
 "nbformat": 4,
 "nbformat_minor": 5
}
